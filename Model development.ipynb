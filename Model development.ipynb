{
 "cells": [
  {
   "cell_type": "markdown",
   "id": "e9d13ef8",
   "metadata": {},
   "source": [
    "# MODEL DEVELOPMENT"
   ]
  },
  {
   "cell_type": "code",
   "execution_count": 1,
   "id": "dfcde0ec",
   "metadata": {},
   "outputs": [],
   "source": [
    "import numpy as np\n",
    "import pandas as pd\n",
    "import matplotlib.pyplot as plt"
   ]
  },
  {
   "cell_type": "code",
   "execution_count": 2,
   "id": "9f3e8056",
   "metadata": {
    "scrolled": true
   },
   "outputs": [
    {
     "data": {
      "text/html": [
       "<div>\n",
       "<style scoped>\n",
       "    .dataframe tbody tr th:only-of-type {\n",
       "        vertical-align: middle;\n",
       "    }\n",
       "\n",
       "    .dataframe tbody tr th {\n",
       "        vertical-align: top;\n",
       "    }\n",
       "\n",
       "    .dataframe thead th {\n",
       "        text-align: right;\n",
       "    }\n",
       "</style>\n",
       "<table border=\"1\" class=\"dataframe\">\n",
       "  <thead>\n",
       "    <tr style=\"text-align: right;\">\n",
       "      <th></th>\n",
       "      <th>symboling</th>\n",
       "      <th>normalized-losses</th>\n",
       "      <th>wheel-base</th>\n",
       "      <th>length</th>\n",
       "      <th>width</th>\n",
       "      <th>height</th>\n",
       "      <th>curb-weight</th>\n",
       "      <th>engine-size</th>\n",
       "      <th>bore</th>\n",
       "      <th>stroke</th>\n",
       "      <th>compression-ratio</th>\n",
       "      <th>horsepower</th>\n",
       "      <th>peak-rpm</th>\n",
       "      <th>city-mpg</th>\n",
       "      <th>highway-mpg</th>\n",
       "      <th>price</th>\n",
       "      <th>city-L/100km</th>\n",
       "      <th>diesel</th>\n",
       "      <th>gas</th>\n",
       "    </tr>\n",
       "  </thead>\n",
       "  <tbody>\n",
       "    <tr>\n",
       "      <th>count</th>\n",
       "      <td>201.000000</td>\n",
       "      <td>201.00000</td>\n",
       "      <td>201.000000</td>\n",
       "      <td>201.000000</td>\n",
       "      <td>201.000000</td>\n",
       "      <td>201.000000</td>\n",
       "      <td>201.000000</td>\n",
       "      <td>201.000000</td>\n",
       "      <td>201.000000</td>\n",
       "      <td>197.000000</td>\n",
       "      <td>201.000000</td>\n",
       "      <td>201.000000</td>\n",
       "      <td>201.000000</td>\n",
       "      <td>201.000000</td>\n",
       "      <td>201.000000</td>\n",
       "      <td>201.000000</td>\n",
       "      <td>201.000000</td>\n",
       "      <td>201.000000</td>\n",
       "      <td>201.000000</td>\n",
       "    </tr>\n",
       "    <tr>\n",
       "      <th>mean</th>\n",
       "      <td>0.840796</td>\n",
       "      <td>122.00000</td>\n",
       "      <td>98.797015</td>\n",
       "      <td>0.837102</td>\n",
       "      <td>0.915126</td>\n",
       "      <td>53.766667</td>\n",
       "      <td>2555.666667</td>\n",
       "      <td>126.875622</td>\n",
       "      <td>3.330692</td>\n",
       "      <td>3.256904</td>\n",
       "      <td>10.164279</td>\n",
       "      <td>103.405534</td>\n",
       "      <td>5117.665368</td>\n",
       "      <td>25.179104</td>\n",
       "      <td>30.686567</td>\n",
       "      <td>13207.129353</td>\n",
       "      <td>9.944145</td>\n",
       "      <td>0.099502</td>\n",
       "      <td>0.900498</td>\n",
       "    </tr>\n",
       "    <tr>\n",
       "      <th>std</th>\n",
       "      <td>1.254802</td>\n",
       "      <td>31.99625</td>\n",
       "      <td>6.066366</td>\n",
       "      <td>0.059213</td>\n",
       "      <td>0.029187</td>\n",
       "      <td>2.447822</td>\n",
       "      <td>517.296727</td>\n",
       "      <td>41.546834</td>\n",
       "      <td>0.268072</td>\n",
       "      <td>0.319256</td>\n",
       "      <td>4.004965</td>\n",
       "      <td>37.365700</td>\n",
       "      <td>478.113805</td>\n",
       "      <td>6.423220</td>\n",
       "      <td>6.815150</td>\n",
       "      <td>7947.066342</td>\n",
       "      <td>2.534599</td>\n",
       "      <td>0.300083</td>\n",
       "      <td>0.300083</td>\n",
       "    </tr>\n",
       "    <tr>\n",
       "      <th>min</th>\n",
       "      <td>-2.000000</td>\n",
       "      <td>65.00000</td>\n",
       "      <td>86.600000</td>\n",
       "      <td>0.678039</td>\n",
       "      <td>0.837500</td>\n",
       "      <td>47.800000</td>\n",
       "      <td>1488.000000</td>\n",
       "      <td>61.000000</td>\n",
       "      <td>2.540000</td>\n",
       "      <td>2.070000</td>\n",
       "      <td>7.000000</td>\n",
       "      <td>48.000000</td>\n",
       "      <td>4150.000000</td>\n",
       "      <td>13.000000</td>\n",
       "      <td>16.000000</td>\n",
       "      <td>5118.000000</td>\n",
       "      <td>4.795918</td>\n",
       "      <td>0.000000</td>\n",
       "      <td>0.000000</td>\n",
       "    </tr>\n",
       "    <tr>\n",
       "      <th>25%</th>\n",
       "      <td>0.000000</td>\n",
       "      <td>101.00000</td>\n",
       "      <td>94.500000</td>\n",
       "      <td>0.801538</td>\n",
       "      <td>0.890278</td>\n",
       "      <td>52.000000</td>\n",
       "      <td>2169.000000</td>\n",
       "      <td>98.000000</td>\n",
       "      <td>3.150000</td>\n",
       "      <td>3.110000</td>\n",
       "      <td>8.600000</td>\n",
       "      <td>70.000000</td>\n",
       "      <td>4800.000000</td>\n",
       "      <td>19.000000</td>\n",
       "      <td>25.000000</td>\n",
       "      <td>7775.000000</td>\n",
       "      <td>7.833333</td>\n",
       "      <td>0.000000</td>\n",
       "      <td>1.000000</td>\n",
       "    </tr>\n",
       "    <tr>\n",
       "      <th>50%</th>\n",
       "      <td>1.000000</td>\n",
       "      <td>122.00000</td>\n",
       "      <td>97.000000</td>\n",
       "      <td>0.832292</td>\n",
       "      <td>0.909722</td>\n",
       "      <td>54.100000</td>\n",
       "      <td>2414.000000</td>\n",
       "      <td>120.000000</td>\n",
       "      <td>3.310000</td>\n",
       "      <td>3.290000</td>\n",
       "      <td>9.000000</td>\n",
       "      <td>95.000000</td>\n",
       "      <td>5125.369458</td>\n",
       "      <td>24.000000</td>\n",
       "      <td>30.000000</td>\n",
       "      <td>10295.000000</td>\n",
       "      <td>9.791667</td>\n",
       "      <td>0.000000</td>\n",
       "      <td>1.000000</td>\n",
       "    </tr>\n",
       "    <tr>\n",
       "      <th>75%</th>\n",
       "      <td>2.000000</td>\n",
       "      <td>137.00000</td>\n",
       "      <td>102.400000</td>\n",
       "      <td>0.881788</td>\n",
       "      <td>0.925000</td>\n",
       "      <td>55.500000</td>\n",
       "      <td>2926.000000</td>\n",
       "      <td>141.000000</td>\n",
       "      <td>3.580000</td>\n",
       "      <td>3.410000</td>\n",
       "      <td>9.400000</td>\n",
       "      <td>116.000000</td>\n",
       "      <td>5500.000000</td>\n",
       "      <td>30.000000</td>\n",
       "      <td>34.000000</td>\n",
       "      <td>16500.000000</td>\n",
       "      <td>12.368421</td>\n",
       "      <td>0.000000</td>\n",
       "      <td>1.000000</td>\n",
       "    </tr>\n",
       "    <tr>\n",
       "      <th>max</th>\n",
       "      <td>3.000000</td>\n",
       "      <td>256.00000</td>\n",
       "      <td>120.900000</td>\n",
       "      <td>1.000000</td>\n",
       "      <td>1.000000</td>\n",
       "      <td>59.800000</td>\n",
       "      <td>4066.000000</td>\n",
       "      <td>326.000000</td>\n",
       "      <td>3.940000</td>\n",
       "      <td>4.170000</td>\n",
       "      <td>23.000000</td>\n",
       "      <td>262.000000</td>\n",
       "      <td>6600.000000</td>\n",
       "      <td>49.000000</td>\n",
       "      <td>54.000000</td>\n",
       "      <td>45400.000000</td>\n",
       "      <td>18.076923</td>\n",
       "      <td>1.000000</td>\n",
       "      <td>1.000000</td>\n",
       "    </tr>\n",
       "  </tbody>\n",
       "</table>\n",
       "</div>"
      ],
      "text/plain": [
       "        symboling  normalized-losses  wheel-base      length       width  \\\n",
       "count  201.000000          201.00000  201.000000  201.000000  201.000000   \n",
       "mean     0.840796          122.00000   98.797015    0.837102    0.915126   \n",
       "std      1.254802           31.99625    6.066366    0.059213    0.029187   \n",
       "min     -2.000000           65.00000   86.600000    0.678039    0.837500   \n",
       "25%      0.000000          101.00000   94.500000    0.801538    0.890278   \n",
       "50%      1.000000          122.00000   97.000000    0.832292    0.909722   \n",
       "75%      2.000000          137.00000  102.400000    0.881788    0.925000   \n",
       "max      3.000000          256.00000  120.900000    1.000000    1.000000   \n",
       "\n",
       "           height  curb-weight  engine-size        bore      stroke  \\\n",
       "count  201.000000   201.000000   201.000000  201.000000  197.000000   \n",
       "mean    53.766667  2555.666667   126.875622    3.330692    3.256904   \n",
       "std      2.447822   517.296727    41.546834    0.268072    0.319256   \n",
       "min     47.800000  1488.000000    61.000000    2.540000    2.070000   \n",
       "25%     52.000000  2169.000000    98.000000    3.150000    3.110000   \n",
       "50%     54.100000  2414.000000   120.000000    3.310000    3.290000   \n",
       "75%     55.500000  2926.000000   141.000000    3.580000    3.410000   \n",
       "max     59.800000  4066.000000   326.000000    3.940000    4.170000   \n",
       "\n",
       "       compression-ratio  horsepower     peak-rpm    city-mpg  highway-mpg  \\\n",
       "count         201.000000  201.000000   201.000000  201.000000   201.000000   \n",
       "mean           10.164279  103.405534  5117.665368   25.179104    30.686567   \n",
       "std             4.004965   37.365700   478.113805    6.423220     6.815150   \n",
       "min             7.000000   48.000000  4150.000000   13.000000    16.000000   \n",
       "25%             8.600000   70.000000  4800.000000   19.000000    25.000000   \n",
       "50%             9.000000   95.000000  5125.369458   24.000000    30.000000   \n",
       "75%             9.400000  116.000000  5500.000000   30.000000    34.000000   \n",
       "max            23.000000  262.000000  6600.000000   49.000000    54.000000   \n",
       "\n",
       "              price  city-L/100km      diesel         gas  \n",
       "count    201.000000    201.000000  201.000000  201.000000  \n",
       "mean   13207.129353      9.944145    0.099502    0.900498  \n",
       "std     7947.066342      2.534599    0.300083    0.300083  \n",
       "min     5118.000000      4.795918    0.000000    0.000000  \n",
       "25%     7775.000000      7.833333    0.000000    1.000000  \n",
       "50%    10295.000000      9.791667    0.000000    1.000000  \n",
       "75%    16500.000000     12.368421    0.000000    1.000000  \n",
       "max    45400.000000     18.076923    1.000000    1.000000  "
      ]
     },
     "execution_count": 2,
     "metadata": {},
     "output_type": "execute_result"
    }
   ],
   "source": [
    "path = 'https://cf-courses-data.s3.us.cloud-object-storage.appdomain.cloud/IBMDeveloperSkillsNetwork-DA0101EN-SkillsNetwork/labs/Data%20files/automobileEDA.csv'\n",
    "df = pd.read_csv(path)\n",
    "df.describe()"
   ]
  },
  {
   "cell_type": "markdown",
   "id": "88c583e7",
   "metadata": {},
   "source": [
    "### Linear regression and Multiple linear regression"
   ]
  },
  {
   "cell_type": "markdown",
   "id": "9fc61808",
   "metadata": {},
   "source": [
    "<p> We start with a simple linear regression</p>\n",
    "<p>In simple linear regression we observe the relationship between two variables</p>\n",
    "<p>The predictor/independent variable(X) </p>\n",
    "<p>And the dependent variable/response(Y)"
   ]
  },
  {
   "cell_type": "code",
   "execution_count": 3,
   "id": "b0d2c91d",
   "metadata": {},
   "outputs": [],
   "source": [
    "from sklearn.linear_model import LinearRegression"
   ]
  },
  {
   "cell_type": "code",
   "execution_count": 4,
   "id": "3ab6dc0b",
   "metadata": {
    "scrolled": true
   },
   "outputs": [],
   "source": [
    "#creates a linear regression object\n",
    "lm=LinearRegression()"
   ]
  },
  {
   "cell_type": "code",
   "execution_count": 5,
   "id": "1e1915ce",
   "metadata": {},
   "outputs": [
    {
     "data": {
      "text/plain": [
       "LinearRegression()"
      ]
     },
     "execution_count": 5,
     "metadata": {},
     "output_type": "execute_result"
    }
   ],
   "source": [
    "lm"
   ]
  },
  {
   "cell_type": "markdown",
   "id": "103ad7af",
   "metadata": {},
   "source": [
    "#### Highway-mpg vs price\n",
    "\n",
    "<p> We are going to use highway mpg as the predictor variable of price as the response </p>"
   ]
  },
  {
   "cell_type": "code",
   "execution_count": 6,
   "id": "1056e9e5",
   "metadata": {},
   "outputs": [],
   "source": [
    "X = df[['highway-mpg']]\n",
    "Y = df['price']"
   ]
  },
  {
   "cell_type": "markdown",
   "id": "0e2e8778",
   "metadata": {},
   "source": [
    "<p> Next we fit the variables to our linear model object we created earlier </p>\n",
    "lm=LinearRegression()"
   ]
  },
  {
   "cell_type": "code",
   "execution_count": 7,
   "id": "5ac7679b",
   "metadata": {},
   "outputs": [
    {
     "data": {
      "text/plain": [
       "LinearRegression()"
      ]
     },
     "execution_count": 7,
     "metadata": {},
     "output_type": "execute_result"
    }
   ],
   "source": [
    "lm.fit(X,Y)"
   ]
  },
  {
   "cell_type": "code",
   "execution_count": 8,
   "id": "1415b5bf",
   "metadata": {},
   "outputs": [
    {
     "data": {
      "text/plain": [
       "array([16236.50464347, 16236.50464347, 17058.23802179, 13771.3045085 ,\n",
       "       20345.17153508])"
      ]
     },
     "execution_count": 8,
     "metadata": {},
     "output_type": "execute_result"
    }
   ],
   "source": [
    "Yhat=lm.predict(X)\n",
    "Yhat[0:5]"
   ]
  },
  {
   "cell_type": "code",
   "execution_count": 9,
   "id": "a2f737b8",
   "metadata": {},
   "outputs": [
    {
     "data": {
      "text/plain": [
       "array([-821.73337832])"
      ]
     },
     "execution_count": 9,
     "metadata": {},
     "output_type": "execute_result"
    }
   ],
   "source": [
    "# we need to find the intercepts and coef to have a formular to calculate the price \n",
    "lm.coef_"
   ]
  },
  {
   "cell_type": "code",
   "execution_count": 10,
   "id": "a3e07520",
   "metadata": {},
   "outputs": [
    {
     "data": {
      "text/plain": [
       "38423.3058581574"
      ]
     },
     "execution_count": 10,
     "metadata": {},
     "output_type": "execute_result"
    }
   ],
   "source": [
    "lm.intercept_"
   ]
  },
  {
   "cell_type": "markdown",
   "id": "e4b1a2ae",
   "metadata": {},
   "source": [
    "So in order to calculate the price based on highway mpg under simple linear regression\n",
    "<p> price = 38423.3058581574 - 821.73337832 x highway-mpg </p>"
   ]
  },
  {
   "cell_type": "code",
   "execution_count": 11,
   "id": "9bd8653f",
   "metadata": {},
   "outputs": [],
   "source": [
    "#lets try to use engine size"
   ]
  },
  {
   "cell_type": "code",
   "execution_count": 12,
   "id": "5f07d541",
   "metadata": {},
   "outputs": [
    {
     "data": {
      "text/plain": [
       "LinearRegression()"
      ]
     },
     "execution_count": 12,
     "metadata": {},
     "output_type": "execute_result"
    }
   ],
   "source": [
    "lm1=LinearRegression()\n",
    "lm1"
   ]
  },
  {
   "cell_type": "code",
   "execution_count": 13,
   "id": "afe59ca3",
   "metadata": {},
   "outputs": [],
   "source": [
    "E = df[[\"engine-size\"]]\n",
    "P = df[\"price\"]"
   ]
  },
  {
   "cell_type": "code",
   "execution_count": 14,
   "id": "fea741f9",
   "metadata": {},
   "outputs": [
    {
     "data": {
      "text/plain": [
       "LinearRegression()"
      ]
     },
     "execution_count": 14,
     "metadata": {},
     "output_type": "execute_result"
    }
   ],
   "source": [
    "lm1.fit(E,P)"
   ]
  },
  {
   "cell_type": "code",
   "execution_count": 15,
   "id": "d2cb6a73",
   "metadata": {},
   "outputs": [
    {
     "data": {
      "text/plain": [
       "array([13728.4631336 , 13728.4631336 , 17399.38347881, 10224.40280408,\n",
       "       14729.62322775])"
      ]
     },
     "execution_count": 15,
     "metadata": {},
     "output_type": "execute_result"
    }
   ],
   "source": [
    "Yhat2=lm1.predict(E)\n",
    "Yhat2[0:5]"
   ]
  },
  {
   "cell_type": "code",
   "execution_count": 16,
   "id": "1f1d2e36",
   "metadata": {},
   "outputs": [
    {
     "data": {
      "text/plain": [
       "-7963.338906281024"
      ]
     },
     "execution_count": 16,
     "metadata": {},
     "output_type": "execute_result"
    }
   ],
   "source": [
    "lm1.intercept_"
   ]
  },
  {
   "cell_type": "code",
   "execution_count": 17,
   "id": "c69a0778",
   "metadata": {},
   "outputs": [
    {
     "data": {
      "text/plain": [
       "array([166.86001569])"
      ]
     },
     "execution_count": 17,
     "metadata": {},
     "output_type": "execute_result"
    }
   ],
   "source": [
    "lm1.coef_"
   ]
  },
  {
   "cell_type": "markdown",
   "id": "b1c6671b",
   "metadata": {},
   "source": [
    "<p>The formular will be price = -7963.338906281024 + 166.86001569 x engine-size </p>"
   ]
  },
  {
   "cell_type": "code",
   "execution_count": 18,
   "id": "3dbfe4a3",
   "metadata": {},
   "outputs": [
    {
     "data": {
      "text/html": [
       "<div>\n",
       "<style scoped>\n",
       "    .dataframe tbody tr th:only-of-type {\n",
       "        vertical-align: middle;\n",
       "    }\n",
       "\n",
       "    .dataframe tbody tr th {\n",
       "        vertical-align: top;\n",
       "    }\n",
       "\n",
       "    .dataframe thead th {\n",
       "        text-align: right;\n",
       "    }\n",
       "</style>\n",
       "<table border=\"1\" class=\"dataframe\">\n",
       "  <thead>\n",
       "    <tr style=\"text-align: right;\">\n",
       "      <th></th>\n",
       "      <th>engine-size</th>\n",
       "      <th>price</th>\n",
       "    </tr>\n",
       "  </thead>\n",
       "  <tbody>\n",
       "    <tr>\n",
       "      <th>engine-size</th>\n",
       "      <td>1.000000</td>\n",
       "      <td>0.872335</td>\n",
       "    </tr>\n",
       "    <tr>\n",
       "      <th>price</th>\n",
       "      <td>0.872335</td>\n",
       "      <td>1.000000</td>\n",
       "    </tr>\n",
       "  </tbody>\n",
       "</table>\n",
       "</div>"
      ],
      "text/plain": [
       "             engine-size     price\n",
       "engine-size     1.000000  0.872335\n",
       "price           0.872335  1.000000"
      ]
     },
     "execution_count": 18,
     "metadata": {},
     "output_type": "execute_result"
    }
   ],
   "source": [
    "df[[\"engine-size\",\"price\"]].corr()\n",
    "#lets check the correlation between the two to know whether its a good predictor of price"
   ]
  },
  {
   "cell_type": "markdown",
   "id": "75e26788",
   "metadata": {},
   "source": [
    "#### Multiple linear regression\n",
    "<p>we can predict car prices using more than one variable </p>\n",
    "<p> In the EDA part based on correlation we noticed that the following are good predictors of price </p>\n",
    "<ol>\n",
    "    <li> Horsepower</li>\n",
    "    <li> Curb-weight</li>\n",
    "    <li> Engine-size</li>\n",
    "    <li> Highway-mpg</li>\n",
    "</ol>\n",
    "    "
   ]
  },
  {
   "cell_type": "code",
   "execution_count": 19,
   "id": "7edfcc42",
   "metadata": {},
   "outputs": [],
   "source": [
    "#lets develop a model using these variable.\n",
    "Z=df[[\"horsepower\",\"curb-weight\",\"engine-size\",\"highway-mpg\"]]\n",
    "I=df[\"price\"]"
   ]
  },
  {
   "cell_type": "code",
   "execution_count": 20,
   "id": "ec880f44",
   "metadata": {},
   "outputs": [
    {
     "data": {
      "text/plain": [
       "LinearRegression()"
      ]
     },
     "execution_count": 20,
     "metadata": {},
     "output_type": "execute_result"
    }
   ],
   "source": [
    "lm.fit(Z,I)"
   ]
  },
  {
   "cell_type": "code",
   "execution_count": 21,
   "id": "234adff5",
   "metadata": {},
   "outputs": [],
   "source": [
    "Yhat3=lm.predict(Z)"
   ]
  },
  {
   "cell_type": "code",
   "execution_count": 22,
   "id": "10d4c6ef",
   "metadata": {},
   "outputs": [
    {
     "data": {
      "text/plain": [
       "-15806.62462632923"
      ]
     },
     "execution_count": 22,
     "metadata": {},
     "output_type": "execute_result"
    }
   ],
   "source": [
    "#lest check the intercept\n",
    "lm.intercept_"
   ]
  },
  {
   "cell_type": "code",
   "execution_count": 23,
   "id": "4806236c",
   "metadata": {},
   "outputs": [],
   "source": [
    "#next we check the coefficient"
   ]
  },
  {
   "cell_type": "code",
   "execution_count": 24,
   "id": "8cac0537",
   "metadata": {},
   "outputs": [
    {
     "data": {
      "text/plain": [
       "array([53.49574423,  4.70770099, 81.53026382, 36.05748882])"
      ]
     },
     "execution_count": 24,
     "metadata": {},
     "output_type": "execute_result"
    }
   ],
   "source": [
    "lm.coef_"
   ]
  },
  {
   "cell_type": "markdown",
   "id": "bb4eb42b",
   "metadata": {},
   "source": [
    "The formular here is </br>\n",
    "price= -15806.62462632923 + 53.49574423*horsepower + 4.70770099*curb-weight + 81.53026382 engine-size + 36.05748882*highway-mpg"
   ]
  },
  {
   "cell_type": "markdown",
   "id": "5978193a",
   "metadata": {},
   "source": [
    "### Model Evaluation using Visualization"
   ]
  },
  {
   "cell_type": "markdown",
   "id": "ddcc0b00",
   "metadata": {},
   "source": [
    "<p> Now that we have developed some models we need to evaluate them and choose the best one </p>"
   ]
  },
  {
   "cell_type": "code",
   "execution_count": 25,
   "id": "80f0ab20",
   "metadata": {},
   "outputs": [],
   "source": [
    "# we use seaborn to create plots\n",
    "import seaborn as sns\n",
    "%matplotlib inline"
   ]
  },
  {
   "cell_type": "markdown",
   "id": "393e41f0",
   "metadata": {},
   "source": [
    "#### Regression plot\n",
    "\n",
    "Regression plot is best for visualizing simple linear regression models\n",
    "Lets visualize <b> highway-mpg </b> as a potential predictor"
   ]
  },
  {
   "cell_type": "code",
   "execution_count": 26,
   "id": "8793f298",
   "metadata": {},
   "outputs": [
    {
     "data": {
      "text/plain": [
       "(0.0, 48182.184898718406)"
      ]
     },
     "execution_count": 26,
     "metadata": {},
     "output_type": "execute_result"
    },
    {
     "data": {
      "image/png": "[encoded data removed]",
      "text/plain": [
       "<Figure size 864x720 with 1 Axes>"
      ]
     },
     "metadata": {
      "needs_background": "light"
     },
     "output_type": "display_data"
    }
   ],
   "source": [
    "#we can set the figure size we want so lets start with that\n",
    "width=12\n",
    "height=10\n",
    "plt.figure(figsize=(width,height))\n",
    "sns.regplot(x=\"highway-mpg\",y=\"price\", data=df)\n",
    "plt.ylim(0,)"
   ]
  },
  {
   "cell_type": "markdown",
   "id": "8dd9c4a3",
   "metadata": {},
   "source": [
    "<p> We can see that there is a strong negative linear relationship between highway mpg and price </p>\n",
    "<p> We should however pay attention to how the data points are scattered from the reg line. This gives a good indication of the variance of the data and whether the linear regression model is the best fit or not. </p>\n",
    "<p>Here we can see that the data is not so pread from the line, the model might be a good fit</p>\n",
    "<p>Lets compare that to a simple linear model regplot of peak rpm vs price</p>"
   ]
  },
  {
   "cell_type": "code",
   "execution_count": 27,
   "id": "2a7d8b7c",
   "metadata": {},
   "outputs": [
    {
     "data": {
      "text/plain": [
       "(0.0, 47414.1)"
      ]
     },
     "execution_count": 27,
     "metadata": {},
     "output_type": "execute_result"
    },
    {
     "data": {
      "image/png": "[encoded data removed]",
      "text/plain": [
       "<Figure size 864x720 with 1 Axes>"
      ]
     },
     "metadata": {
      "needs_background": "light"
     },
     "output_type": "display_data"
    }
   ],
   "source": [
    "plt.figure(figsize=(width,height))\n",
    "sns.regplot(x=\"peak-rpm\",y=\"price\", data=df)\n",
    "plt.ylim(0,)"
   ]
  },
  {
   "cell_type": "markdown",
   "id": "8db9334e",
   "metadata": {},
   "source": [
    "Here we can see that there is a very weak linear relationship\n",
    "<p> The data points are spreadout from the fitted line compared to those in the highway-mpg model. </p>\n",
    "<p>This makes it harder to determine whether the price increases or decreases with peak-rpm </p>\n",
    "<p>Lets investigate the correlation adn see"
   ]
  },
  {
   "cell_type": "code",
   "execution_count": 28,
   "id": "bf6b4572",
   "metadata": {},
   "outputs": [
    {
     "data": {
      "text/html": [
       "<div>\n",
       "<style scoped>\n",
       "    .dataframe tbody tr th:only-of-type {\n",
       "        vertical-align: middle;\n",
       "    }\n",
       "\n",
       "    .dataframe tbody tr th {\n",
       "        vertical-align: top;\n",
       "    }\n",
       "\n",
       "    .dataframe thead th {\n",
       "        text-align: right;\n",
       "    }\n",
       "</style>\n",
       "<table border=\"1\" class=\"dataframe\">\n",
       "  <thead>\n",
       "    <tr style=\"text-align: right;\">\n",
       "      <th></th>\n",
       "      <th>peak-rpm</th>\n",
       "      <th>highway-mpg</th>\n",
       "      <th>price</th>\n",
       "    </tr>\n",
       "  </thead>\n",
       "  <tbody>\n",
       "    <tr>\n",
       "      <th>peak-rpm</th>\n",
       "      <td>1.000000</td>\n",
       "      <td>-0.058598</td>\n",
       "      <td>-0.101616</td>\n",
       "    </tr>\n",
       "    <tr>\n",
       "      <th>highway-mpg</th>\n",
       "      <td>-0.058598</td>\n",
       "      <td>1.000000</td>\n",
       "      <td>-0.704692</td>\n",
       "    </tr>\n",
       "    <tr>\n",
       "      <th>price</th>\n",
       "      <td>-0.101616</td>\n",
       "      <td>-0.704692</td>\n",
       "      <td>1.000000</td>\n",
       "    </tr>\n",
       "  </tbody>\n",
       "</table>\n",
       "</div>"
      ],
      "text/plain": [
       "             peak-rpm  highway-mpg     price\n",
       "peak-rpm     1.000000    -0.058598 -0.101616\n",
       "highway-mpg -0.058598     1.000000 -0.704692\n",
       "price       -0.101616    -0.704692  1.000000"
      ]
     },
     "execution_count": 28,
     "metadata": {},
     "output_type": "execute_result"
    }
   ],
   "source": [
    "df[[\"peak-rpm\",\"highway-mpg\",\"price\"]].corr()"
   ]
  },
  {
   "cell_type": "markdown",
   "id": "93587c2b",
   "metadata": {},
   "source": [
    "We can see the correlation between peak-rpm is weak and threfore not a good predictor of price"
   ]
  },
  {
   "cell_type": "markdown",
   "id": "7397bc56",
   "metadata": {},
   "source": [
    "#### Residual plot\n",
    "\n",
    "<p>Residual plots are best to visualize variance of data</p>\n",
    "<p>Residual refers to the diffrence between the actual value(y) and the predicted value(yhat). When looking at a regression plot, residual is the distance from the data point to the fitted regression line. </p>\n",
    "<p> When looking at the residual plot we focus on the spread of the residuals.</p>\n",
    "<p>If the values are randomly spreadout on the x axis, then the linear model is appropriate for the data </p>\n",
    "<p>This is because it means that the variance is constant and this the linear model is a good fit </p>"
   ]
  },
  {
   "cell_type": "code",
   "execution_count": 29,
   "id": "88f803d2",
   "metadata": {},
   "outputs": [
    {
     "name": "stderr",
     "output_type": "stream",
     "text": [
      "c:\\python\\lib\\site-packages\\seaborn\\_decorators.py:36: FutureWarning: Pass the following variables as keyword args: x, y. From version 0.12, the only valid positional argument will be `data`, and passing other arguments without an explicit keyword will result in an error or misinterpretation.\n",
      "  warnings.warn(\n"
     ]
    },
    {
     "data": {
      "text/plain": [
       "<AxesSubplot:xlabel='highway-mpg', ylabel='price'>"
      ]
     },
     "execution_count": 29,
     "metadata": {},
     "output_type": "execute_result"
    },
    {
     "data": {
      "image/png": "[encoded data removed]",
      "text/plain": [
       "<Figure size 864x720 with 1 Axes>"
      ]
     },
     "metadata": {
      "needs_background": "light"
     },
     "output_type": "display_data"
    }
   ],
   "source": [
    "#lets look at a residual plot of highway-mpg vs price\n",
    "width=12\n",
    "height=10\n",
    "plt.figure(figsize=(width,height))\n",
    "J=df[\"highway-mpg\"]\n",
    "K=df[\"price\"]\n",
    "sns.residplot(J,K)"
   ]
  },
  {
   "cell_type": "markdown",
   "id": "67ed387a",
   "metadata": {},
   "source": [
    "Here we can see that the residuals are not randomly spread through the x-axis therefore a non-linear model is more appropriate for this data"
   ]
  },
  {
   "cell_type": "code",
   "execution_count": 30,
   "id": "a24a783b",
   "metadata": {},
   "outputs": [
    {
     "data": {
      "text/plain": [
       "<AxesSubplot:xlabel='peak-rpm', ylabel='price'>"
      ]
     },
     "execution_count": 30,
     "metadata": {},
     "output_type": "execute_result"
    },
    {
     "data": {
      "image/png": "[encoded data removed]",
      "text/plain": [
       "<Figure size 432x288 with 1 Axes>"
      ]
     },
     "metadata": {
      "needs_background": "light"
     },
     "output_type": "display_data"
    }
   ],
   "source": [
    "sns.residplot(df[\"peak-rpm\"],df[\"price\"])"
   ]
  },
  {
   "cell_type": "markdown",
   "id": "ee627818",
   "metadata": {},
   "source": [
    "#### Visualizing \n",
    "Multiple Linear Regression"
   ]
  },
  {
   "cell_type": "markdown",
   "id": "6f1abed3",
   "metadata": {},
   "source": [
    "<p>Its rather difficult to visualize multiple linear regression using residplots and regplots</p>\n",
    "<p>To visualize multiple linear regression we use distribution plots</p>\n",
    "<p> In the distribution plots we look at the distribution of the fitted values vs the distribution of the actual values</p>"
   ]
  },
  {
   "cell_type": "code",
   "execution_count": 31,
   "id": "d9c100f4",
   "metadata": {},
   "outputs": [],
   "source": [
    "Y_Hat=lm.predict(Z)"
   ]
  },
  {
   "cell_type": "code",
   "execution_count": 82,
   "id": "d2d402d4",
   "metadata": {
    "scrolled": false
   },
   "outputs": [
    {
     "name": "stderr",
     "output_type": "stream",
     "text": [
      "c:\\python\\lib\\site-packages\\seaborn\\distributions.py:2619: FutureWarning: `distplot` is a deprecated function and will be removed in a future version. Please adapt your code to use either `displot` (a figure-level function with similar flexibility) or `kdeplot` (an axes-level function for kernel density plots).\n",
      "  warnings.warn(msg, FutureWarning)\n",
      "c:\\python\\lib\\site-packages\\seaborn\\distributions.py:2619: FutureWarning: `distplot` is a deprecated function and will be removed in a future version. Please adapt your code to use either `displot` (a figure-level function with similar flexibility) or `kdeplot` (an axes-level function for kernel density plots).\n",
      "  warnings.warn(msg, FutureWarning)\n"
     ]
    },
    {
     "data": {
      "image/png": "[encoded data removed]",
      "text/plain": [
       "<Figure size 864x720 with 1 Axes>"
      ]
     },
     "metadata": {
      "needs_background": "light"
     },
     "output_type": "display_data"
    }
   ],
   "source": [
    "plt.figure(figsize=(width, height))\n",
    "\n",
    "\n",
    "ax1 = sns.distplot(Y, hist=False, color=\"r\", label=\"Actual Value\")\n",
    "sns.distplot(Y_Hat, hist=False, color=\"b\", label=\"Fitted Values\" , ax=ax1)\n",
    "\n",
    "\n",
    "plt.title('Actual vs Fitted Values for Price')\n",
    "plt.xlabel('Price (in dollars)')\n",
    "plt.ylabel('Proportion of Cars')\n",
    "\n",
    "plt.legend()\n",
    "plt.show()\n",
    "plt.close()"
   ]
  },
  {
   "cell_type": "markdown",
   "id": "4feb2b53",
   "metadata": {},
   "source": [
    "#### Polynomial Regression and Pipelines\n",
    "\n",
    "We get non-linear relationships by squaring or setting higher-order terms in the predictor variables <br>\n",
    "We use Polynormial Regressions when we need non-linear models for data which linear models are not the best fit. <br>\n",
    "In our case we saw from the residual plot that the non-random spread of residuals in the highway-mpg meant that the linear model was not the best fit<br>\n",
    "We then try to see whether we can use polynomial model to the data instead<br>"
   ]
  },
  {
   "cell_type": "code",
   "execution_count": 33,
   "id": "a0424154",
   "metadata": {},
   "outputs": [],
   "source": [
    "def PlotPolly(model,independent_variable,dependent_variable,Name):\n",
    "    x_new=np.linspace(15,55,100)\n",
    "    y_new=model(x_new)\n",
    "    \n",
    "    plt.plot(independent_variable, dependent_variable,'.',x_new,y_new,'-')\n",
    "    plt.title('Polynomial fit with Matplotlib for price ~ length')\n",
    "    ax=plt.gca()\n",
    "    ax.set_facecolor((0.898,0.898,0.898))\n",
    "    fig=plt.gcf()\n",
    "    plt.xlabel(Name)\n",
    "    plt.ylabel(\"Price of Cars\")\n",
    "    \n",
    "    plt.show()\n",
    "    plt.close()"
   ]
  },
  {
   "cell_type": "code",
   "execution_count": 34,
   "id": "220d9a24",
   "metadata": {},
   "outputs": [],
   "source": [
    "#next we get the variables\n",
    "x=df[\"highway-mpg\"]\n",
    "y=df[\"price\"]"
   ]
  },
  {
   "cell_type": "code",
   "execution_count": 35,
   "id": "8db892f5",
   "metadata": {},
   "outputs": [
    {
     "name": "stdout",
     "output_type": "stream",
     "text": [
      "        3         2\n",
      "-1.557 x + 204.8 x - 8965 x + 1.379e+05\n"
     ]
    }
   ],
   "source": [
    "#Lets use the numpy polyfit \n",
    "#we use a third order\n",
    "f=np.polyfit(x,y,3)\n",
    "p=np.poly1d(f)\n",
    "print(p)"
   ]
  },
  {
   "cell_type": "markdown",
   "id": "d57c136b",
   "metadata": {},
   "source": [
    "<p> We polyfit our variables and then use poly1d to display the polynormial function </p>"
   ]
  },
  {
   "cell_type": "code",
   "execution_count": 36,
   "id": "920595d4",
   "metadata": {},
   "outputs": [
    {
     "data": {
      "image/png": "[encoded data removed]",
      "text/plain": [
       "<Figure size 432x288 with 1 Axes>"
      ]
     },
     "metadata": {
      "needs_background": "light"
     },
     "output_type": "display_data"
    }
   ],
   "source": [
    "#next we plot the fcuntion\n",
    "PlotPolly(p,x,y,'highway-mpg')"
   ]
  },
  {
   "cell_type": "markdown",
   "id": "a85da203",
   "metadata": {},
   "source": [
    "<p>We can already see from plotting that this polynomial model performs better than the linear model. This is because the generated polynomial function  \"hits\" more of the data points.</p>"
   ]
  },
  {
   "cell_type": "code",
   "execution_count": 37,
   "id": "bd99f0a2",
   "metadata": {},
   "outputs": [
    {
     "data": {
      "text/plain": [
       "array([-1.55663829e+00,  2.04754306e+02, -8.96543312e+03,  1.37923594e+05])"
      ]
     },
     "execution_count": 37,
     "metadata": {},
     "output_type": "execute_result"
    }
   ],
   "source": [
    "np.polyfit(x, y, 3)"
   ]
  },
  {
   "cell_type": "code",
   "execution_count": 38,
   "id": "bbc88df5",
   "metadata": {},
   "outputs": [
    {
     "name": "stdout",
     "output_type": "stream",
     "text": [
      "            11             10             9           8         7\n",
      "-1.243e-08 x  + 4.722e-06 x  - 0.0008028 x + 0.08056 x - 5.297 x\n",
      "          6        5             4             3             2\n",
      " + 239.5 x - 7588 x + 1.684e+05 x - 2.565e+06 x + 2.551e+07 x - 1.491e+08 x + 3.879e+08\n"
     ]
    },
    {
     "data": {
      "image/png": "[encoded data removed]",
      "text/plain": [
       "<Figure size 432x288 with 1 Axes>"
      ]
     },
     "metadata": {
      "needs_background": "light"
     },
     "output_type": "display_data"
    }
   ],
   "source": [
    "f1=np.polyfit(x,y,11)\n",
    "p1=np.poly1d(f1)\n",
    "print(p1)\n",
    "PlotPolly(p1,x,y,'Highway MPG')"
   ]
  },
  {
   "cell_type": "markdown",
   "id": "64519cc6",
   "metadata": {},
   "source": [
    "The analytical expression for Multivariate Polynomial function gets complicated. To perform on multiple features we use the scikit learn preprocessing module"
   ]
  },
  {
   "cell_type": "code",
   "execution_count": 39,
   "id": "fad5424d",
   "metadata": {},
   "outputs": [],
   "source": [
    "from sklearn.preprocessing import PolynomialFeatures"
   ]
  },
  {
   "cell_type": "code",
   "execution_count": 40,
   "id": "dac1715e",
   "metadata": {},
   "outputs": [
    {
     "data": {
      "text/plain": [
       "PolynomialFeatures()"
      ]
     },
     "execution_count": 40,
     "metadata": {},
     "output_type": "execute_result"
    }
   ],
   "source": [
    "pr=PolynomialFeatures(degree=2)\n",
    "pr"
   ]
  },
  {
   "cell_type": "code",
   "execution_count": 41,
   "id": "08eed1fa",
   "metadata": {},
   "outputs": [],
   "source": [
    "#lets fit transform the Z variables we used in the linear reg\n",
    "Z_pr=pr.fit_transform(Z)"
   ]
  },
  {
   "cell_type": "markdown",
   "id": "04abb3ac",
   "metadata": {},
   "source": [
    "In the original data Z that is there are 210 samples and only features, <br>\n",
    "After the transform we het 201 samples and 15 features"
   ]
  },
  {
   "cell_type": "code",
   "execution_count": 42,
   "id": "ecf48cad",
   "metadata": {},
   "outputs": [
    {
     "data": {
      "text/plain": [
       "(201, 4)"
      ]
     },
     "execution_count": 42,
     "metadata": {},
     "output_type": "execute_result"
    }
   ],
   "source": [
    "Z.shape"
   ]
  },
  {
   "cell_type": "code",
   "execution_count": 43,
   "id": "29af9406",
   "metadata": {},
   "outputs": [
    {
     "data": {
      "text/plain": [
       "(201, 15)"
      ]
     },
     "execution_count": 43,
     "metadata": {},
     "output_type": "execute_result"
    }
   ],
   "source": [
    "Z_pr.shape"
   ]
  },
  {
   "cell_type": "markdown",
   "id": "eb59c219",
   "metadata": {},
   "source": [
    "#### Pipelines"
   ]
  },
  {
   "cell_type": "markdown",
   "id": "318d54a2",
   "metadata": {},
   "source": [
    "Pipelines simplify the steps of processing the data. We use the module pipeline"
   ]
  },
  {
   "cell_type": "code",
   "execution_count": 44,
   "id": "4b03dc11",
   "metadata": {},
   "outputs": [],
   "source": [
    "from sklearn.preprocessing import StandardScaler\n",
    "from sklearn.pipeline import Pipeline\n",
    "from sklearn.linear_model import LinearRegression\n",
    "from sklearn.preprocessing import PolynomialFeatures"
   ]
  },
  {
   "cell_type": "markdown",
   "id": "7837dc8a",
   "metadata": {},
   "source": [
    "We the create a pipeline by creating an list of tuples including the name of the model and its corresponding constructor\n",
    "Through the pipeline the data is normalized, polynomial transformed and then sent to the linear model for a regression."
   ]
  },
  {
   "cell_type": "code",
   "execution_count": 45,
   "id": "caf8b218",
   "metadata": {},
   "outputs": [],
   "source": [
    "Input=[('scaler',StandardScaler()),('polynomial',PolynomialFeatures(degree=2)),('model',LinearRegression())]"
   ]
  },
  {
   "cell_type": "code",
   "execution_count": 46,
   "id": "caf14754",
   "metadata": {},
   "outputs": [],
   "source": [
    "pipe=Pipeline(Input)"
   ]
  },
  {
   "cell_type": "code",
   "execution_count": 47,
   "id": "3db13d8d",
   "metadata": {},
   "outputs": [
    {
     "data": {
      "text/plain": [
       "Pipeline(steps=[('scaler', StandardScaler()),\n",
       "                ('polynomial', PolynomialFeatures()),\n",
       "                ('model', LinearRegression())])"
      ]
     },
     "execution_count": 47,
     "metadata": {},
     "output_type": "execute_result"
    }
   ],
   "source": [
    "pipe"
   ]
  },
  {
   "cell_type": "markdown",
   "id": "a92f4ea7",
   "metadata": {},
   "source": [
    "First we convert the Z to datatype float to avoid errors as the StandardScaler taking float inputs then we normalize, transform and produce a prediction simultaneously"
   ]
  },
  {
   "cell_type": "code",
   "execution_count": 48,
   "id": "462e4b16",
   "metadata": {},
   "outputs": [],
   "source": [
    "Z=Z.astype(float)"
   ]
  },
  {
   "cell_type": "code",
   "execution_count": 71,
   "id": "6eb1d567",
   "metadata": {},
   "outputs": [
    {
     "data": {
      "text/plain": [
       "Pipeline(steps=[('scaler', StandardScaler()),\n",
       "                ('polynomial', PolynomialFeatures()),\n",
       "                ('model', LinearRegression())])"
      ]
     },
     "execution_count": 71,
     "metadata": {},
     "output_type": "execute_result"
    }
   ],
   "source": [
    "pipe.fit(Z,Y)#y is the target"
   ]
  },
  {
   "cell_type": "code",
   "execution_count": 72,
   "id": "fd94c036",
   "metadata": {},
   "outputs": [],
   "source": [
    "ypipe=pipe.predict(Z)"
   ]
  },
  {
   "cell_type": "code",
   "execution_count": 73,
   "id": "69ec0dc5",
   "metadata": {},
   "outputs": [
    {
     "data": {
      "text/plain": [
       "array([13102.74784201, 13102.74784201, 18225.54572197, 10390.29636555])"
      ]
     },
     "execution_count": 73,
     "metadata": {},
     "output_type": "execute_result"
    }
   ],
   "source": [
    "ypipe[0:4]"
   ]
  },
  {
   "cell_type": "markdown",
   "id": "dda4687d",
   "metadata": {},
   "source": [
    "lets create  another pipeline where we only standardize and then sent it directly to  linear regression without the polynomial function"
   ]
  },
  {
   "cell_type": "code",
   "execution_count": 74,
   "id": "7ada502b",
   "metadata": {},
   "outputs": [],
   "source": [
    "Input2=[('scaler',StandardScaler()),('model',LinearRegression())]"
   ]
  },
  {
   "cell_type": "code",
   "execution_count": 75,
   "id": "724804b4",
   "metadata": {},
   "outputs": [],
   "source": [
    "pipe2=Pipeline(Input2)"
   ]
  },
  {
   "cell_type": "code",
   "execution_count": 76,
   "id": "4aa17cc8",
   "metadata": {},
   "outputs": [
    {
     "data": {
      "text/plain": [
       "Pipeline(steps=[('scaler', StandardScaler()), ('model', LinearRegression())])"
      ]
     },
     "execution_count": 76,
     "metadata": {},
     "output_type": "execute_result"
    }
   ],
   "source": [
    "pipe2"
   ]
  },
  {
   "cell_type": "code",
   "execution_count": 77,
   "id": "d473d7d0",
   "metadata": {},
   "outputs": [],
   "source": [
    "Z=Z.astype(float)"
   ]
  },
  {
   "cell_type": "code",
   "execution_count": 78,
   "id": "1b30b6e4",
   "metadata": {},
   "outputs": [
    {
     "data": {
      "text/plain": [
       "Pipeline(steps=[('scaler', StandardScaler()), ('model', LinearRegression())])"
      ]
     },
     "execution_count": 78,
     "metadata": {},
     "output_type": "execute_result"
    }
   ],
   "source": [
    "pipe2.fit(Z,y)"
   ]
  },
  {
   "cell_type": "code",
   "execution_count": 79,
   "id": "17522177",
   "metadata": {},
   "outputs": [],
   "source": [
    "Piped=pipe2.predict(Z)"
   ]
  },
  {
   "cell_type": "code",
   "execution_count": 80,
   "id": "fc7a6dcf",
   "metadata": {},
   "outputs": [
    {
     "data": {
      "text/plain": [
       "array([13699.11161184, 13699.11161184, 19051.65470233, 10620.36193015,\n",
       "       15521.31420211])"
      ]
     },
     "execution_count": 80,
     "metadata": {},
     "output_type": "execute_result"
    }
   ],
   "source": [
    "Piped[0:5]"
   ]
  },
  {
   "cell_type": "code",
   "execution_count": 81,
   "id": "6ca8a767",
   "metadata": {},
   "outputs": [
    {
     "name": "stderr",
     "output_type": "stream",
     "text": [
      "c:\\python\\lib\\site-packages\\seaborn\\distributions.py:2619: FutureWarning: `distplot` is a deprecated function and will be removed in a future version. Please adapt your code to use either `displot` (a figure-level function with similar flexibility) or `kdeplot` (an axes-level function for kernel density plots).\n",
      "  warnings.warn(msg, FutureWarning)\n",
      "c:\\python\\lib\\site-packages\\seaborn\\distributions.py:2619: FutureWarning: `distplot` is a deprecated function and will be removed in a future version. Please adapt your code to use either `displot` (a figure-level function with similar flexibility) or `kdeplot` (an axes-level function for kernel density plots).\n",
      "  warnings.warn(msg, FutureWarning)\n"
     ]
    },
    {
     "data": {
      "text/plain": [
       "Text(0, 0.5, 'Proportion')"
      ]
     },
     "execution_count": 81,
     "metadata": {},
     "output_type": "execute_result"
    },
    {
     "data": {
      "image/png": "[encoded data removed]",
      "text/plain": [
       "<Figure size 864x720 with 1 Axes>"
      ]
     },
     "metadata": {
      "needs_background": "light"
     },
     "output_type": "display_data"
    }
   ],
   "source": [
    "plt.figure(figsize=(width,height))\n",
    "distP=sns.distplot(ypipe,color='r',hist=False, label=\"Polynomial\")\n",
    "sns.distplot(Piped,color='b',hist=False,label=\"NoPoly\")\n",
    "\n",
    "plt.legend()\n",
    "plt.title('Comparison of predictions with and without P.Transform')\n",
    "plt.xlabel(\"Predicted Price\")\n",
    "plt.ylabel(\"Proportion\")"
   ]
  },
  {
   "cell_type": "markdown",
   "id": "78bbb05f",
   "metadata": {},
   "source": [
    "#### Measures for in-sample evaluation\n",
    "\n",
    "Besides visualizations as a measure of model accuracy. We could use measures to evaluate the model <br>\n",
    "The most important measures are:\n",
    "<ul>\n",
    "    <li> R squared </li>\n",
    "    <li> Mean Squared Error </li>\n",
    "</ul>\n",
    "\n",
    "<p> R-squared is a measure to indicate how close the data is to the fitted regression line. </p>\n",
    "<p> The value of the R squared is the percentage of variation of the response variable that is explained by a linear model </p>\n",
    "<p><b> Mean Squared Error </b> measures the average of the squares of errors. That is the difference between the actual value y adn the estimated value yhat</p>\n",
    "\n",
    "#### Model 1: Simple Linear Regression "
   ]
  },
  {
   "cell_type": "code",
   "execution_count": 60,
   "id": "e590fc22",
   "metadata": {},
   "outputs": [
    {
     "name": "stdout",
     "output_type": "stream",
     "text": [
      "The r squared value is 0.4965911884339176\n"
     ]
    }
   ],
   "source": [
    "#Lets calculate the R squared value of our highway mpg model\n",
    "lm.fit(X,Y)\n",
    "#to find the R squared value we use the lm.score function\n",
    "print(f\"The r squared value is {lm.score(X,Y)}\")"
   ]
  },
  {
   "cell_type": "markdown",
   "id": "8025e0fa",
   "metadata": {},
   "source": [
    "From the R squared value obtained we can say that the model explains 49.659% of the price variation with horsepower change <br>\n",
    "Next we calculate the MSE. <br>\n",
    "MSE is calculated from the predicted value of y i.e y hat while R squared is obtained from the fit"
   ]
  },
  {
   "cell_type": "code",
   "execution_count": 61,
   "id": "4bd67f00",
   "metadata": {},
   "outputs": [
    {
     "name": "stdout",
     "output_type": "stream",
     "text": [
      "Our first four prices predictions are: [16236.50464347 16236.50464347 17058.23802179 13771.3045085 ]\n"
     ]
    }
   ],
   "source": [
    "yhat=lm.predict(X)\n",
    "print(f\"Our first four prices predictions are: {yhat[0:4]}\")"
   ]
  },
  {
   "cell_type": "code",
   "execution_count": 65,
   "id": "a0717bd7",
   "metadata": {},
   "outputs": [],
   "source": [
    "from sklearn.metrics import mean_squared_error"
   ]
  },
  {
   "cell_type": "markdown",
   "id": "363a4656",
   "metadata": {},
   "source": [
    "We then predict the predicted result to the actual result"
   ]
  },
  {
   "cell_type": "code",
   "execution_count": 67,
   "id": "37aef0ac",
   "metadata": {},
   "outputs": [
    {
     "data": {
      "text/plain": [
       "38423.3058581574"
      ]
     },
     "execution_count": 67,
     "metadata": {},
     "output_type": "execute_result"
    }
   ],
   "source": [
    "lm.intercept_"
   ]
  },
  {
   "cell_type": "code",
   "execution_count": 68,
   "id": "e45169fa",
   "metadata": {},
   "outputs": [
    {
     "data": {
      "text/plain": [
       "array([-821.73337832])"
      ]
     },
     "execution_count": 68,
     "metadata": {},
     "output_type": "execute_result"
    }
   ],
   "source": [
    "lm.coef_"
   ]
  },
  {
   "cell_type": "markdown",
   "id": "5e499be9",
   "metadata": {},
   "source": [
    "yhat=38423.3058581574 - -821.73337832 * Highway mpg"
   ]
  },
  {
   "cell_type": "code",
   "execution_count": 69,
   "id": "6829711f",
   "metadata": {},
   "outputs": [],
   "source": [
    "mse=mean_squared_error(df[\"price\"],yhat)"
   ]
  },
  {
   "cell_type": "code",
   "execution_count": 70,
   "id": "7920d3b2",
   "metadata": {},
   "outputs": [
    {
     "name": "stdout",
     "output_type": "stream",
     "text": [
      "The MSE of price and predicted value is 31635042.944639888\n"
     ]
    }
   ],
   "source": [
    "print(f\"The MSE of price and predicted value is {mse}\")"
   ]
  },
  {
   "cell_type": "markdown",
   "id": "2b600b8b",
   "metadata": {},
   "source": [
    "#### Model 2: Multiple Linear Regression"
   ]
  },
  {
   "cell_type": "code",
   "execution_count": 83,
   "id": "e30eeb29",
   "metadata": {},
   "outputs": [
    {
     "name": "stdout",
     "output_type": "stream",
     "text": [
      "The R squared value of the MLR is: 0.8093562806577457\n"
     ]
    }
   ],
   "source": [
    "#lest fit the model first\n",
    "Ji=df[\"price\"]\n",
    "lm.fit(Z,Ji)\n",
    "#next we find the R squared value\n",
    "print(f\"The R squared value of the MLR is: {lm.score(Z,Ji)}\")"
   ]
  },
  {
   "cell_type": "markdown",
   "id": "97660d06",
   "metadata": {},
   "source": [
    "From the above R squared value we can say that 80.936% of the variation in price is explained by this multiple regression model. Since its close to 1 (perfect) we can say the data is very close to the fitted line so its quite accurate.\n",
    "\n",
    "Next lets get the MSE"
   ]
  },
  {
   "cell_type": "code",
   "execution_count": 85,
   "id": "aebdc4c1",
   "metadata": {},
   "outputs": [],
   "source": [
    "mse_pred=lm.predict(Z)"
   ]
  },
  {
   "cell_type": "code",
   "execution_count": 86,
   "id": "55067ead",
   "metadata": {},
   "outputs": [
    {
     "name": "stdout",
     "output_type": "stream",
     "text": [
      "The MSE of the price and the predicted value in the MLR is: 11980366.87072649\n"
     ]
    }
   ],
   "source": [
    "print(f\"The MSE of the price and the predicted value in the MLR is: {mean_squared_error(Ji,mse_pred)}\")"
   ]
  },
  {
   "cell_type": "markdown",
   "id": "1a095491",
   "metadata": {},
   "source": [
    "#### Model 3: Polynomial fit\n",
    "\n",
    "Lets calculate the R squared of a polynomial fit. First we need to import the r2_score from sklearn metrics"
   ]
  },
  {
   "cell_type": "code",
   "execution_count": 87,
   "id": "da490657",
   "metadata": {},
   "outputs": [],
   "source": [
    "from sklearn.metrics import r2_score"
   ]
  },
  {
   "cell_type": "code",
   "execution_count": 88,
   "id": "70a0c379",
   "metadata": {},
   "outputs": [],
   "source": [
    "r_squared=r2_score(y,p(x))"
   ]
  },
  {
   "cell_type": "code",
   "execution_count": 89,
   "id": "5338f7ab",
   "metadata": {},
   "outputs": [
    {
     "name": "stdout",
     "output_type": "stream",
     "text": [
      "The r sqaured value is :  0.674194666390652\n"
     ]
    }
   ],
   "source": [
    "print('The r sqaured value is : ',r_squared)"
   ]
  },
  {
   "cell_type": "markdown",
   "id": "2945e50c",
   "metadata": {},
   "source": [
    "So we can say that 67.42% is explained by this polynomial fit"
   ]
  },
  {
   "cell_type": "markdown",
   "id": "b6708151",
   "metadata": {},
   "source": [
    "MSE"
   ]
  },
  {
   "cell_type": "code",
   "execution_count": 91,
   "id": "82495eb6",
   "metadata": {},
   "outputs": [
    {
     "data": {
      "text/plain": [
       "20474146.426361218"
      ]
     },
     "execution_count": 91,
     "metadata": {},
     "output_type": "execute_result"
    }
   ],
   "source": [
    "mean_squared_error(Ji,p(x)) #of the polynomial fit"
   ]
  },
  {
   "cell_type": "markdown",
   "id": "7536159c",
   "metadata": {},
   "source": [
    "#### Prediction and Decison making"
   ]
  },
  {
   "cell_type": "code",
   "execution_count": 93,
   "id": "43b1b85a",
   "metadata": {},
   "outputs": [],
   "source": [
    "gh=np.arange(1,25).reshape(-1,1)"
   ]
  },
  {
   "cell_type": "code",
   "execution_count": 94,
   "id": "a2ca9214",
   "metadata": {},
   "outputs": [
    {
     "data": {
      "text/plain": [
       "2"
      ]
     },
     "execution_count": 94,
     "metadata": {},
     "output_type": "execute_result"
    }
   ],
   "source": [
    "gh.ndim"
   ]
  },
  {
   "cell_type": "markdown",
   "id": "d2e14b04",
   "metadata": {},
   "source": [
    "After fitting the models ofcourse we have to predict stuff"
   ]
  },
  {
   "cell_type": "code",
   "execution_count": 96,
   "id": "d6460ac4",
   "metadata": {},
   "outputs": [],
   "source": [
    "import matplotlib.pyplot as plt\n",
    "%matplotlib inline"
   ]
  },
  {
   "cell_type": "code",
   "execution_count": 101,
   "id": "50d65224",
   "metadata": {},
   "outputs": [],
   "source": [
    "#lest create a new data set for which we want to be predicted. From 1 to 100 skip by 1.\n",
    "Horsepower_newvalues=np.arange(1,100,1).reshape(-1,1)"
   ]
  },
  {
   "cell_type": "code",
   "execution_count": 98,
   "id": "8854d79b",
   "metadata": {},
   "outputs": [
    {
     "data": {
      "text/plain": [
       "LinearRegression()"
      ]
     },
     "execution_count": 98,
     "metadata": {},
     "output_type": "execute_result"
    }
   ],
   "source": [
    "#lets fit the model to linear regression\n",
    "lm.fit(X,Y)\n",
    "# we are going to use the modeln that used horsepower and price"
   ]
  },
  {
   "cell_type": "code",
   "execution_count": 103,
   "id": "eb554c33",
   "metadata": {},
   "outputs": [
    {
     "name": "stderr",
     "output_type": "stream",
     "text": [
      "c:\\python\\lib\\site-packages\\sklearn\\base.py:450: UserWarning: X does not have valid feature names, but LinearRegression was fitted with feature names\n",
      "  warnings.warn(\n"
     ]
    },
    {
     "data": {
      "text/plain": [
       "array([37601.57247984, 36779.83910151, 35958.10572319, 35136.37234487,\n",
       "       34314.63896655])"
      ]
     },
     "execution_count": 103,
     "metadata": {},
     "output_type": "execute_result"
    }
   ],
   "source": [
    "Predicted_Price=lm.predict(Horsepower_newvalues)\n",
    "Predicted_Price[0:5]"
   ]
  },
  {
   "cell_type": "markdown",
   "id": "3d02e683",
   "metadata": {},
   "source": [
    "lets visualize this new price generated against the to be predicted values. The to be predicted values take the place of horsepower"
   ]
  },
  {
   "cell_type": "code",
   "execution_count": 105,
   "id": "e877d1ff",
   "metadata": {},
   "outputs": [
    {
     "data": {
      "image/png": "[encoded data removed]",
      "text/plain": [
       "<Figure size 432x288 with 1 Axes>"
      ]
     },
     "metadata": {
      "needs_background": "light"
     },
     "output_type": "display_data"
    }
   ],
   "source": [
    "plt.plot(Horsepower_newvalues, Predicted_Price)\n",
    "plt.show()"
   ]
  },
  {
   "cell_type": "code",
   "execution_count": 120,
   "id": "1f7ab7df",
   "metadata": {},
   "outputs": [
    {
     "name": "stderr",
     "output_type": "stream",
     "text": [
      "c:\\python\\lib\\site-packages\\sklearn\\base.py:450: UserWarning: X does not have valid feature names, but LinearRegression was fitted with feature names\n",
      "  warnings.warn(\n"
     ]
    },
    {
     "data": {
      "text/plain": [
       "array([13771.3045085])"
      ]
     },
     "execution_count": 120,
     "metadata": {},
     "output_type": "execute_result"
    }
   ],
   "source": [
    "Hs=np.arange(30,31,1).reshape(-1,1)\n",
    "HsHat=lm.predict(Hs)\n",
    "HsHat"
   ]
  },
  {
   "cell_type": "code",
   "execution_count": 122,
   "id": "745e2d77",
   "metadata": {},
   "outputs": [
    {
     "data": {
      "text/plain": [
       "array([[30]])"
      ]
     },
     "execution_count": 122,
     "metadata": {},
     "output_type": "execute_result"
    }
   ],
   "source": [
    "Hs # i only needed a prediction for 30 highway mpf hence the npo array"
   ]
  },
  {
   "cell_type": "markdown",
   "id": "b8ec1c4b",
   "metadata": {},
   "source": [
    "<h3>Decision Making: Determining a Good Model Fit</h3>"
   ]
  },
  {
   "cell_type": "markdown",
   "id": "1a4bf65f",
   "metadata": {},
   "source": [
    "<p>Now that we have visualized the different models, and generated the R-squared and MSE values for the fits, how do we determine a good model fit?\n",
    "<ul>\n",
    "    <li><i>What is a good R-squared value?</i></li>\n",
    "</ul>\n",
    "</p>\n",
    "\n",
    "<p>When comparing models, <b>the model with the higher R-squared value is a better fit</b> for the data.\n",
    "<ul>\n",
    "    <li><i>What is a good MSE?</i></li>\n",
    "</ul>\n",
    "</p>\n",
    "\n",
    "<p>When comparing models, <b>the model with the smallest MSE value is a better fit</b> for the data.</p>\n",
    "\n",
    "<h4>Let's take a look at the values for the different models.</h4>\n",
    "<p>Simple Linear Regression: Using Highway-mpg as a Predictor Variable of Price.\n",
    "<ul>\n",
    "    <li>R-squared: 0.49659118843391759</li>\n",
    "    <li>MSE: 3.16 x10^7</li>\n",
    "</ul>\n",
    "</p>\n",
    "\n",
    "<p>Multiple Linear Regression: Using Horsepower, Curb-weight, Engine-size, and Highway-mpg as Predictor Variables of Price.\n",
    "<ul>\n",
    "    <li>R-squared: 0.80896354913783497</li>\n",
    "    <li>MSE: 1.2 x10^7</li>\n",
    "</ul>\n",
    "</p>\n",
    "\n",
    "<p>Polynomial Fit: Using Highway-mpg as a Predictor Variable of Price.\n",
    "<ul>\n",
    "    <li>R-squared: 0.6741946663906514</li>\n",
    "    <li>MSE: 2.05 x 10^7</li>\n",
    "</ul>\n",
    "</p>\n"
   ]
  },
  {
   "cell_type": "code",
   "execution_count": null,
   "id": "d7ff6ca2",
   "metadata": {},
   "outputs": [],
   "source": []
  }
 ],
 "metadata": {
  "kernelspec": {
   "display_name": "Python 3",
   "language": "python",
   "name": "python3"
  },
  "language_info": {
   "codemirror_mode": {
    "name": "ipython",
    "version": 3
   },
   "file_extension": ".py",
   "mimetype": "text/x-python",
   "name": "python",
   "nbconvert_exporter": "python",
   "pygments_lexer": "ipython3",
   "version": "3.9.1"
  }
 },
 "nbformat": 4,
 "nbformat_minor": 5
}
