{
 "cells": [
  {
   "cell_type": "markdown",
   "id": "ac17227c",
   "metadata": {},
   "source": [
    "# Simplilearn: Numpy"
   ]
  },
  {
   "cell_type": "code",
   "execution_count": 2,
   "id": "a2b718ef",
   "metadata": {},
   "outputs": [],
   "source": [
    "import numpy as np"
   ]
  },
  {
   "cell_type": "code",
   "execution_count": 3,
   "id": "0b58bcda",
   "metadata": {},
   "outputs": [],
   "source": [
    "first_numpy_array=np.array([1,2,3,4])"
   ]
  },
  {
   "cell_type": "code",
   "execution_count": 4,
   "id": "f8845457",
   "metadata": {},
   "outputs": [
    {
     "name": "stdout",
     "output_type": "stream",
     "text": [
      "[1 2 3 4]\n"
     ]
    }
   ],
   "source": [
    "print(first_numpy_array)"
   ]
  },
  {
   "cell_type": "code",
   "execution_count": 5,
   "id": "70ff4d2c",
   "metadata": {},
   "outputs": [],
   "source": [
    "array_with_zeros=np.zeros((3,3))"
   ]
  },
  {
   "cell_type": "code",
   "execution_count": 6,
   "id": "836bf522",
   "metadata": {},
   "outputs": [
    {
     "data": {
      "text/plain": [
       "array([[0., 0., 0.],\n",
       "       [0., 0., 0.],\n",
       "       [0., 0., 0.]])"
      ]
     },
     "execution_count": 6,
     "metadata": {},
     "output_type": "execute_result"
    }
   ],
   "source": [
    "array_with_zeros"
   ]
  },
  {
   "cell_type": "code",
   "execution_count": 7,
   "id": "640221b4",
   "metadata": {},
   "outputs": [],
   "source": [
    "array_with_ones=np.ones((3,3))"
   ]
  },
  {
   "cell_type": "code",
   "execution_count": 8,
   "id": "6a0acfbe",
   "metadata": {},
   "outputs": [
    {
     "data": {
      "text/plain": [
       "array([[1., 1., 1.],\n",
       "       [1., 1., 1.],\n",
       "       [1., 1., 1.]])"
      ]
     },
     "execution_count": 8,
     "metadata": {},
     "output_type": "execute_result"
    }
   ],
   "source": [
    "array_with_ones"
   ]
  },
  {
   "cell_type": "code",
   "execution_count": 9,
   "id": "48d76350",
   "metadata": {},
   "outputs": [
    {
     "data": {
      "text/plain": [
       "array([[0., 0., 0.],\n",
       "       [0., 0., 0.]])"
      ]
     },
     "execution_count": 9,
     "metadata": {},
     "output_type": "execute_result"
    }
   ],
   "source": [
    "#array with empty\n",
    "array_with_empty=np.empty((2,3))\n",
    "array_with_empty"
   ]
  },
  {
   "cell_type": "code",
   "execution_count": 9,
   "id": "88b656d6",
   "metadata": {},
   "outputs": [],
   "source": [
    "#arange numpy function\n",
    "np_arange=np.arange(12)"
   ]
  },
  {
   "cell_type": "code",
   "execution_count": 10,
   "id": "1b0211fb",
   "metadata": {},
   "outputs": [
    {
     "name": "stdout",
     "output_type": "stream",
     "text": [
      "[ 0  1  2  3  4  5  6  7  8  9 10 11]\n"
     ]
    }
   ],
   "source": [
    "print(np_arange)"
   ]
  },
  {
   "cell_type": "code",
   "execution_count": 11,
   "id": "211de49f",
   "metadata": {},
   "outputs": [
    {
     "data": {
      "text/plain": [
       "array([[ 0,  1,  2,  3],\n",
       "       [ 4,  5,  6,  7],\n",
       "       [ 8,  9, 10, 11]])"
      ]
     },
     "execution_count": 11,
     "metadata": {},
     "output_type": "execute_result"
    }
   ],
   "source": [
    "#reshape method to change array\n",
    "np.reshape(np_arange,(3,4))"
   ]
  },
  {
   "cell_type": "code",
   "execution_count": 12,
   "id": "15153a99",
   "metadata": {},
   "outputs": [],
   "source": [
    "#linspace for linearly spaced daata elements, To equally divide data\n",
    "#the first value is where to start, where to finish adn the number of equidistant elements"
   ]
  },
  {
   "cell_type": "code",
   "execution_count": 13,
   "id": "4bff8c5e",
   "metadata": {},
   "outputs": [],
   "source": [
    "np_linspace=np.linspace(1,6,5)"
   ]
  },
  {
   "cell_type": "code",
   "execution_count": 14,
   "id": "a892295f",
   "metadata": {},
   "outputs": [
    {
     "name": "stdout",
     "output_type": "stream",
     "text": [
      "[1.   2.25 3.5  4.75 6.  ]\n"
     ]
    }
   ],
   "source": [
    "print(np_linspace)"
   ]
  },
  {
   "cell_type": "code",
   "execution_count": 15,
   "id": "e9fde594",
   "metadata": {},
   "outputs": [
    {
     "name": "stdout",
     "output_type": "stream",
     "text": [
      "[ 0  1  2  3  4  5  6  7  8  9 10 11 12 13 14]\n"
     ]
    }
   ],
   "source": [
    "#one dimentional array\n",
    "oneD_array=np.arange(15)\n",
    "print(oneD_array)"
   ]
  },
  {
   "cell_type": "code",
   "execution_count": 16,
   "id": "770103fc",
   "metadata": {},
   "outputs": [],
   "source": [
    "#two dimentional array\n",
    "twoD_array=np.reshape(oneD_array,(3,5))"
   ]
  },
  {
   "cell_type": "code",
   "execution_count": 17,
   "id": "d245c7ba",
   "metadata": {},
   "outputs": [
    {
     "name": "stdout",
     "output_type": "stream",
     "text": [
      "[[ 0  1  2  3  4]\n",
      " [ 5  6  7  8  9]\n",
      " [10 11 12 13 14]]\n"
     ]
    }
   ],
   "source": [
    "print(twoD_array)"
   ]
  },
  {
   "cell_type": "code",
   "execution_count": 18,
   "id": "ac5cf0a2",
   "metadata": {},
   "outputs": [
    {
     "data": {
      "text/plain": [
       "array([[ 0,  1,  2,  3,  4],\n",
       "       [ 5,  6,  7,  8,  9],\n",
       "       [10, 11, 12, 13, 14]])"
      ]
     },
     "execution_count": 18,
     "metadata": {},
     "output_type": "execute_result"
    }
   ],
   "source": [
    "twoD_array"
   ]
  },
  {
   "cell_type": "code",
   "execution_count": 19,
   "id": "defab136",
   "metadata": {},
   "outputs": [],
   "source": [
    "#three dimentional array\n",
    "ThreeD_array=np.arange(27).reshape(3,3,3)"
   ]
  },
  {
   "cell_type": "code",
   "execution_count": 20,
   "id": "dd02a026",
   "metadata": {},
   "outputs": [
    {
     "name": "stdout",
     "output_type": "stream",
     "text": [
      "[[[ 0  1  2]\n",
      "  [ 3  4  5]\n",
      "  [ 6  7  8]]\n",
      "\n",
      " [[ 9 10 11]\n",
      "  [12 13 14]\n",
      "  [15 16 17]]\n",
      "\n",
      " [[18 19 20]\n",
      "  [21 22 23]\n",
      "  [24 25 26]]]\n"
     ]
    }
   ],
   "source": [
    "print(ThreeD_array)"
   ]
  },
  {
   "cell_type": "code",
   "execution_count": 21,
   "id": "1047ec99",
   "metadata": {},
   "outputs": [
    {
     "data": {
      "text/plain": [
       "3"
      ]
     },
     "execution_count": 21,
     "metadata": {},
     "output_type": "execute_result"
    }
   ],
   "source": [
    "ThreeD_array.ndim"
   ]
  },
  {
   "cell_type": "code",
   "execution_count": 22,
   "id": "108a8f1b",
   "metadata": {},
   "outputs": [
    {
     "data": {
      "text/plain": [
       "(3, 3, 3)"
      ]
     },
     "execution_count": 22,
     "metadata": {},
     "output_type": "execute_result"
    }
   ],
   "source": [
    "ThreeD_array.shape"
   ]
  },
  {
   "cell_type": "code",
   "execution_count": 23,
   "id": "64bf49cb",
   "metadata": {},
   "outputs": [
    {
     "data": {
      "text/plain": [
       "27"
      ]
     },
     "execution_count": 23,
     "metadata": {},
     "output_type": "execute_result"
    }
   ],
   "source": [
    "ThreeD_array.size"
   ]
  },
  {
   "cell_type": "code",
   "execution_count": 24,
   "id": "a74b4109",
   "metadata": {},
   "outputs": [
    {
     "data": {
      "text/plain": [
       "dtype('int32')"
      ]
     },
     "execution_count": 24,
     "metadata": {},
     "output_type": "execute_result"
    }
   ],
   "source": [
    "ThreeD_array.dtype"
   ]
  },
  {
   "cell_type": "markdown",
   "id": "e99af690",
   "metadata": {},
   "source": [
    "### Basic operations"
   ]
  },
  {
   "cell_type": "code",
   "execution_count": 25,
   "id": "0869d709",
   "metadata": {},
   "outputs": [],
   "source": [
    "first_trial_cyclist=[10,15,17,26]\n",
    "second_trial_cyclist=[12,11,21,24]"
   ]
  },
  {
   "cell_type": "code",
   "execution_count": 26,
   "id": "0b05a283",
   "metadata": {},
   "outputs": [],
   "source": [
    "np_Fst=np.array(first_trial_cyclist)"
   ]
  },
  {
   "cell_type": "code",
   "execution_count": 27,
   "id": "573b3aaa",
   "metadata": {},
   "outputs": [],
   "source": [
    "np_Snd=np.array(second_trial_cyclist)"
   ]
  },
  {
   "cell_type": "code",
   "execution_count": 28,
   "id": "8b08788c",
   "metadata": {},
   "outputs": [
    {
     "data": {
      "text/plain": [
       "array([22, 26, 38, 50])"
      ]
     },
     "execution_count": 28,
     "metadata": {},
     "output_type": "execute_result"
    }
   ],
   "source": [
    "np_Fst+np_Snd"
   ]
  },
  {
   "cell_type": "markdown",
   "id": "fa239593",
   "metadata": {},
   "source": [
    "#### Mathematical operations"
   ]
  },
  {
   "cell_type": "code",
   "execution_count": 29,
   "id": "5cf1ebb8",
   "metadata": {},
   "outputs": [
    {
     "data": {
      "text/plain": [
       "65"
      ]
     },
     "execution_count": 29,
     "metadata": {},
     "output_type": "execute_result"
    }
   ],
   "source": [
    "#lets do addition\n",
    "np.add(45,20)"
   ]
  },
  {
   "cell_type": "code",
   "execution_count": 30,
   "id": "c84c8ac0",
   "metadata": {},
   "outputs": [
    {
     "data": {
      "text/plain": [
       "23"
      ]
     },
     "execution_count": 30,
     "metadata": {},
     "output_type": "execute_result"
    }
   ],
   "source": [
    "np.subtract(45,22)"
   ]
  },
  {
   "cell_type": "code",
   "execution_count": 31,
   "id": "f67e00d2",
   "metadata": {},
   "outputs": [],
   "source": [
    "np_daily_wage=np.array([7,9,13,8,11])*15"
   ]
  },
  {
   "cell_type": "code",
   "execution_count": 32,
   "id": "341f3f61",
   "metadata": {},
   "outputs": [
    {
     "name": "stdout",
     "output_type": "stream",
     "text": [
      "[105 135 195 120 165]\n"
     ]
    }
   ],
   "source": [
    "print(np_daily_wage)"
   ]
  },
  {
   "cell_type": "code",
   "execution_count": 33,
   "id": "c9ca01f9",
   "metadata": {},
   "outputs": [
    {
     "data": {
      "text/plain": [
       "720"
      ]
     },
     "execution_count": 33,
     "metadata": {},
     "output_type": "execute_result"
    }
   ],
   "source": [
    "sum(np_daily_wage)"
   ]
  },
  {
   "cell_type": "markdown",
   "id": "c4c9834c",
   "metadata": {},
   "source": [
    "#### Comparison operators"
   ]
  },
  {
   "cell_type": "code",
   "execution_count": 34,
   "id": "a0ebdcbf",
   "metadata": {},
   "outputs": [],
   "source": [
    "np_weekly_hrs=np.array([23,41,55,47,38])"
   ]
  },
  {
   "cell_type": "code",
   "execution_count": 35,
   "id": "4e38d078",
   "metadata": {},
   "outputs": [
    {
     "data": {
      "text/plain": [
       "array([False, False, False, False, False])"
      ]
     },
     "execution_count": 35,
     "metadata": {},
     "output_type": "execute_result"
    }
   ],
   "source": [
    "np_weekly_hrs > 100"
   ]
  },
  {
   "cell_type": "code",
   "execution_count": 36,
   "id": "cb7f368f",
   "metadata": {},
   "outputs": [
    {
     "data": {
      "text/plain": [
       "array([41, 55, 47])"
      ]
     },
     "execution_count": 36,
     "metadata": {},
     "output_type": "execute_result"
    }
   ],
   "source": [
    "np_weekly_hrs[np_weekly_hrs > 40]"
   ]
  },
  {
   "cell_type": "code",
   "execution_count": 39,
   "id": "8bd72378",
   "metadata": {},
   "outputs": [
    {
     "data": {
      "text/plain": [
       "array([23, 41, 55, 47, 38])"
      ]
     },
     "execution_count": 39,
     "metadata": {},
     "output_type": "execute_result"
    }
   ],
   "source": [
    "np_weekly_hrs[np_weekly_hrs != 40]"
   ]
  },
  {
   "cell_type": "markdown",
   "id": "273976ff",
   "metadata": {},
   "source": [
    "#### Logical operations"
   ]
  },
  {
   "cell_type": "code",
   "execution_count": 43,
   "id": "90a08ad8",
   "metadata": {},
   "outputs": [
    {
     "data": {
      "text/plain": [
       "array([23, 41, 47, 38])"
      ]
     },
     "execution_count": 43,
     "metadata": {},
     "output_type": "execute_result"
    }
   ],
   "source": [
    "#logical and operation\n",
    "np_weekly_hrs[np.logical_and(np_weekly_hrs>20,np_weekly_hrs<50)]"
   ]
  },
  {
   "cell_type": "code",
   "execution_count": 1,
   "id": "d3f3193f",
   "metadata": {},
   "outputs": [
    {
     "ename": "NameError",
     "evalue": "name 'np_weekly_hrs' is not defined",
     "output_type": "error",
     "traceback": [
      "\u001b[1;31m---------------------------------------------------------------------------\u001b[0m",
      "\u001b[1;31mNameError\u001b[0m                                 Traceback (most recent call last)",
      "\u001b[1;32m<ipython-input-1-75239b452d0f>\u001b[0m in \u001b[0;36m<module>\u001b[1;34m\u001b[0m\n\u001b[0;32m      1\u001b[0m \u001b[1;31m#logical not operation\u001b[0m\u001b[1;33m\u001b[0m\u001b[1;33m\u001b[0m\u001b[1;33m\u001b[0m\u001b[0m\n\u001b[1;32m----> 2\u001b[1;33m \u001b[0mnp_weekly_hrs\u001b[0m\u001b[1;33m[\u001b[0m\u001b[0mnp\u001b[0m\u001b[1;33m.\u001b[0m\u001b[0mlocigal_not\u001b[0m\u001b[1;33m(\u001b[0m\u001b[0mnp_weekly_hrs\u001b[0m \u001b[1;33m>\u001b[0m \u001b[1;36m30\u001b[0m\u001b[1;33m)\u001b[0m\u001b[1;33m]\u001b[0m\u001b[1;33m\u001b[0m\u001b[1;33m\u001b[0m\u001b[0m\n\u001b[0m",
      "\u001b[1;31mNameError\u001b[0m: name 'np_weekly_hrs' is not defined"
     ]
    }
   ],
   "source": [
    "#logical not operation\n",
    "np_weekly_hrs[np.locigal_not(np_weekly_hrs > 30)]"
   ]
  },
  {
   "cell_type": "code",
   "execution_count": null,
   "id": "a44257ec",
   "metadata": {},
   "outputs": [],
   "source": []
  }
 ],
 "metadata": {
  "kernelspec": {
   "display_name": "Python 3",
   "language": "python",
   "name": "python3"
  },
  "language_info": {
   "codemirror_mode": {
    "name": "ipython",
    "version": 3
   },
   "file_extension": ".py",
   "mimetype": "text/x-python",
   "name": "python",
   "nbconvert_exporter": "python",
   "pygments_lexer": "ipython3",
   "version": "3.9.1"
  }
 },
 "nbformat": 4,
 "nbformat_minor": 5
}
