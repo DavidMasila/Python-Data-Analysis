{
 "cells": [
  {
   "cell_type": "markdown",
   "id": "772f9e86",
   "metadata": {},
   "source": [
    "# Python Pandas"
   ]
  },
  {
   "cell_type": "code",
   "execution_count": 3,
   "id": "cbd6f71f",
   "metadata": {},
   "outputs": [],
   "source": [
    "import pandas as pd"
   ]
  },
  {
   "cell_type": "code",
   "execution_count": 4,
   "id": "8525e51b",
   "metadata": {},
   "outputs": [],
   "source": [
    "import numpy as np"
   ]
  },
  {
   "cell_type": "markdown",
   "id": "257bbe81",
   "metadata": {},
   "source": [
    "## Panda Series"
   ]
  },
  {
   "cell_type": "code",
   "execution_count": 5,
   "id": "64edf2e9",
   "metadata": {},
   "outputs": [],
   "source": [
    "#creating a panda series\n",
    "letters='abcdefg'"
   ]
  },
  {
   "cell_type": "code",
   "execution_count": 6,
   "id": "0c7a5759",
   "metadata": {},
   "outputs": [],
   "source": [
    "first_series=pd.Series(list(letters))"
   ]
  },
  {
   "cell_type": "code",
   "execution_count": 7,
   "id": "71532e4d",
   "metadata": {},
   "outputs": [
    {
     "data": {
      "text/plain": [
       "0    a\n",
       "1    b\n",
       "2    c\n",
       "3    d\n",
       "4    e\n",
       "5    f\n",
       "6    g\n",
       "dtype: object"
      ]
     },
     "execution_count": 7,
     "metadata": {},
     "output_type": "execute_result"
    }
   ],
   "source": [
    "first_series"
   ]
  },
  {
   "cell_type": "code",
   "execution_count": 8,
   "id": "e46bf5f8",
   "metadata": {},
   "outputs": [],
   "source": [
    "#Series from a ndarray\n",
    "np_country=np.array(['Kenya','Uganda','South Africa','Tanzania','Ghana','Nigeria','Egypt','Algeria'])"
   ]
  },
  {
   "cell_type": "code",
   "execution_count": 9,
   "id": "80f19e37",
   "metadata": {},
   "outputs": [],
   "source": [
    "Series_country=pd.Series(np_country)"
   ]
  },
  {
   "cell_type": "code",
   "execution_count": 10,
   "id": "e7131ddc",
   "metadata": {},
   "outputs": [
    {
     "data": {
      "text/plain": [
       "0           Kenya\n",
       "1          Uganda\n",
       "2    South Africa\n",
       "3        Tanzania\n",
       "4           Ghana\n",
       "5         Nigeria\n",
       "6           Egypt\n",
       "7         Algeria\n",
       "dtype: object"
      ]
     },
     "execution_count": 10,
     "metadata": {},
     "output_type": "execute_result"
    }
   ],
   "source": [
    "Series_country"
   ]
  },
  {
   "cell_type": "code",
   "execution_count": 11,
   "id": "be8d14ee",
   "metadata": {},
   "outputs": [
    {
     "data": {
      "text/plain": [
       "'Kenya'"
      ]
     },
     "execution_count": 11,
     "metadata": {},
     "output_type": "execute_result"
    }
   ],
   "source": [
    "Series_country[0]"
   ]
  },
  {
   "cell_type": "code",
   "execution_count": 12,
   "id": "9f83b472",
   "metadata": {},
   "outputs": [],
   "source": [
    "GDP=[234,546,567,890,123,456,567,789]"
   ]
  },
  {
   "cell_type": "code",
   "execution_count": 13,
   "id": "a8f93929",
   "metadata": {},
   "outputs": [],
   "source": [
    "#series from dict\n",
    "Series2=pd.Series(GDP,index=[np_country])"
   ]
  },
  {
   "cell_type": "code",
   "execution_count": 14,
   "id": "10c8b340",
   "metadata": {},
   "outputs": [
    {
     "data": {
      "text/plain": [
       "Kenya           234\n",
       "Uganda          546\n",
       "South Africa    567\n",
       "Tanzania        890\n",
       "Ghana           123\n",
       "Nigeria         456\n",
       "Egypt           567\n",
       "Algeria         789\n",
       "dtype: int64"
      ]
     },
     "execution_count": 14,
     "metadata": {},
     "output_type": "execute_result"
    }
   ],
   "source": [
    "Series2"
   ]
  },
  {
   "cell_type": "code",
   "execution_count": 15,
   "id": "90a46131",
   "metadata": {},
   "outputs": [],
   "source": [
    "#Creating Series from scalar\n",
    "scalar_series=pd.Series(5.,index=['a','b','d','d','e'])"
   ]
  },
  {
   "cell_type": "code",
   "execution_count": 16,
   "id": "0e18fffd",
   "metadata": {},
   "outputs": [
    {
     "data": {
      "text/plain": [
       "a    5.0\n",
       "b    5.0\n",
       "d    5.0\n",
       "d    5.0\n",
       "e    5.0\n",
       "dtype: float64"
      ]
     },
     "execution_count": 16,
     "metadata": {},
     "output_type": "execute_result"
    }
   ],
   "source": [
    "scalar_series"
   ]
  },
  {
   "cell_type": "markdown",
   "id": "ae7672b4",
   "metadata": {},
   "source": [
    "pd.Series(data,index)"
   ]
  },
  {
   "cell_type": "code",
   "execution_count": 17,
   "id": "339c68e1",
   "metadata": {},
   "outputs": [
    {
     "data": {
      "text/plain": [
       "0           Kenya\n",
       "1          Uganda\n",
       "2    South Africa\n",
       "3        Tanzania\n",
       "dtype: object"
      ]
     },
     "execution_count": 17,
     "metadata": {},
     "output_type": "execute_result"
    }
   ],
   "source": [
    "#accessing\n",
    "Series_country[0:4]"
   ]
  },
  {
   "cell_type": "code",
   "execution_count": 18,
   "id": "ca32b646",
   "metadata": {},
   "outputs": [
    {
     "data": {
      "text/plain": [
       "Kenya           234\n",
       "Uganda          546\n",
       "South Africa    567\n",
       "Tanzania        890\n",
       "Ghana           123\n",
       "dtype: int64"
      ]
     },
     "execution_count": 18,
     "metadata": {},
     "output_type": "execute_result"
    }
   ],
   "source": [
    "Series2[0:5]"
   ]
  },
  {
   "cell_type": "code",
   "execution_count": 19,
   "id": "9633550e",
   "metadata": {},
   "outputs": [
    {
     "data": {
      "text/plain": [
       "Uganda    546\n",
       "dtype: int64"
      ]
     },
     "execution_count": 19,
     "metadata": {},
     "output_type": "execute_result"
    }
   ],
   "source": [
    "#accessing values along a row through index name\n",
    "Series2.loc[\"Uganda\"]"
   ]
  },
  {
   "cell_type": "code",
   "execution_count": 20,
   "id": "6a1de3ae",
   "metadata": {
    "scrolled": true
   },
   "outputs": [
    {
     "data": {
      "text/plain": [
       "234"
      ]
     },
     "execution_count": 20,
     "metadata": {},
     "output_type": "execute_result"
    }
   ],
   "source": [
    "#accessing values in a row through their index's index\n",
    "Series2.iloc[0]"
   ]
  },
  {
   "cell_type": "markdown",
   "id": "f0c2983b",
   "metadata": {},
   "source": [
    "looking up through index position.\n",
    "Basically accessing the rows"
   ]
  },
  {
   "cell_type": "markdown",
   "id": "c6f6de36",
   "metadata": {},
   "source": [
    "#### Vectorized Operations in Series\n",
    "\n",
    "<p>Vectorized operations show how series can be added. Are performed by the index positions of data elements"
   ]
  },
  {
   "cell_type": "code",
   "execution_count": 21,
   "id": "68aefb0d",
   "metadata": {},
   "outputs": [],
   "source": [
    "Data=[1,2,3,4]\n",
    "Data2=[10,20,30,40]"
   ]
  },
  {
   "cell_type": "code",
   "execution_count": 22,
   "id": "6aec44c6",
   "metadata": {},
   "outputs": [],
   "source": [
    "first_vector_series=pd.Series(Data,index=['a','b','c','d'])"
   ]
  },
  {
   "cell_type": "code",
   "execution_count": 23,
   "id": "af0acb0d",
   "metadata": {},
   "outputs": [],
   "source": [
    "second_vector_series=pd.Series(Data2,index=['a','b','c','d'])"
   ]
  },
  {
   "cell_type": "code",
   "execution_count": 24,
   "id": "0ebab51c",
   "metadata": {},
   "outputs": [
    {
     "data": {
      "text/plain": [
       "a    11\n",
       "b    22\n",
       "c    33\n",
       "d    44\n",
       "dtype: int64"
      ]
     },
     "execution_count": 24,
     "metadata": {},
     "output_type": "execute_result"
    }
   ],
   "source": [
    "first_vector_series+second_vector_series"
   ]
  },
  {
   "cell_type": "markdown",
   "id": "4193f95d",
   "metadata": {},
   "source": [
    "<p> The data element is bound to the index position. Shuffling shows these results </p>"
   ]
  },
  {
   "cell_type": "code",
   "execution_count": 25,
   "id": "e27c4307",
   "metadata": {},
   "outputs": [],
   "source": [
    "second_vector_series=pd.Series(Data2,index=['a','d','b','c'])"
   ]
  },
  {
   "cell_type": "code",
   "execution_count": 26,
   "id": "e11196cd",
   "metadata": {},
   "outputs": [
    {
     "data": {
      "text/plain": [
       "a    11\n",
       "b    32\n",
       "c    43\n",
       "d    24\n",
       "dtype: int64"
      ]
     },
     "execution_count": 26,
     "metadata": {},
     "output_type": "execute_result"
    }
   ],
   "source": [
    "first_vector_series+second_vector_series"
   ]
  },
  {
   "cell_type": "code",
   "execution_count": 27,
   "id": "96bed856",
   "metadata": {},
   "outputs": [],
   "source": [
    "#let's introduce new indices\n",
    "second_vector_series=pd.Series(Data2,index=['a','b','e','f'])"
   ]
  },
  {
   "cell_type": "code",
   "execution_count": 28,
   "id": "ccce71ff",
   "metadata": {},
   "outputs": [
    {
     "data": {
      "text/plain": [
       "a    11.0\n",
       "b    22.0\n",
       "c     NaN\n",
       "d     NaN\n",
       "e     NaN\n",
       "f     NaN\n",
       "dtype: float64"
      ]
     },
     "execution_count": 28,
     "metadata": {},
     "output_type": "execute_result"
    }
   ],
   "source": [
    "first_vector_series+second_vector_series"
   ]
  },
  {
   "cell_type": "markdown",
   "id": "bbb9ddf6",
   "metadata": {},
   "source": [
    "<p>Further shows the data elemet boundness to the index. The new second_vector_series lacks c and d and threfore no additions could be made </p>\n",
    "The additional letters do not match any index in the first series </br>"
   ]
  },
  {
   "cell_type": "markdown",
   "id": "b4eab334",
   "metadata": {},
   "source": [
    "## Panda DataFrame\n"
   ]
  },
  {
   "cell_type": "code",
   "execution_count": 29,
   "id": "da2cf5b9",
   "metadata": {},
   "outputs": [],
   "source": [
    "import pandas as pd"
   ]
  },
  {
   "cell_type": "code",
   "execution_count": 30,
   "id": "3da2d8e0",
   "metadata": {},
   "outputs": [],
   "source": [
    "#Creating a dataframe from dictionary of equal length lists\n",
    "olympic_data_list={'HostCity':['London','Beijing','Athens','Sydney','Atlanta'],\n",
    "                  'Year':[2012,2008,2004,2000,1996],\n",
    "                  'No. of participating Countries':[205,204,201,200,197]}"
   ]
  },
  {
   "cell_type": "code",
   "execution_count": 50,
   "id": "371dd9f4",
   "metadata": {},
   "outputs": [],
   "source": [
    "df=pd.DataFrame(olympic_data_list)"
   ]
  },
  {
   "cell_type": "code",
   "execution_count": 51,
   "id": "98d48722",
   "metadata": {},
   "outputs": [
    {
     "data": {
      "text/html": [
       "<div>\n",
       "<style scoped>\n",
       "    .dataframe tbody tr th:only-of-type {\n",
       "        vertical-align: middle;\n",
       "    }\n",
       "\n",
       "    .dataframe tbody tr th {\n",
       "        vertical-align: top;\n",
       "    }\n",
       "\n",
       "    .dataframe thead th {\n",
       "        text-align: right;\n",
       "    }\n",
       "</style>\n",
       "<table border=\"1\" class=\"dataframe\">\n",
       "  <thead>\n",
       "    <tr style=\"text-align: right;\">\n",
       "      <th></th>\n",
       "      <th>HostCity</th>\n",
       "      <th>Year</th>\n",
       "      <th>No. of participating Countries</th>\n",
       "    </tr>\n",
       "  </thead>\n",
       "  <tbody>\n",
       "    <tr>\n",
       "      <th>0</th>\n",
       "      <td>London</td>\n",
       "      <td>2012</td>\n",
       "      <td>205</td>\n",
       "    </tr>\n",
       "    <tr>\n",
       "      <th>1</th>\n",
       "      <td>Beijing</td>\n",
       "      <td>2008</td>\n",
       "      <td>204</td>\n",
       "    </tr>\n",
       "    <tr>\n",
       "      <th>2</th>\n",
       "      <td>Athens</td>\n",
       "      <td>2004</td>\n",
       "      <td>201</td>\n",
       "    </tr>\n",
       "    <tr>\n",
       "      <th>3</th>\n",
       "      <td>Sydney</td>\n",
       "      <td>2000</td>\n",
       "      <td>200</td>\n",
       "    </tr>\n",
       "    <tr>\n",
       "      <th>4</th>\n",
       "      <td>Atlanta</td>\n",
       "      <td>1996</td>\n",
       "      <td>197</td>\n",
       "    </tr>\n",
       "  </tbody>\n",
       "</table>\n",
       "</div>"
      ],
      "text/plain": [
       "  HostCity  Year  No. of participating Countries\n",
       "0   London  2012                             205\n",
       "1  Beijing  2008                             204\n",
       "2   Athens  2004                             201\n",
       "3   Sydney  2000                             200\n",
       "4  Atlanta  1996                             197"
      ]
     },
     "execution_count": 51,
     "metadata": {},
     "output_type": "execute_result"
    }
   ],
   "source": [
    "df"
   ]
  },
  {
   "cell_type": "code",
   "execution_count": 53,
   "id": "3e2b629d",
   "metadata": {},
   "outputs": [],
   "source": [
    "#Creating a dataframe from dict of dicts\n",
    "df1={'London':{2012:205},'Beijing':{2008:204}}"
   ]
  },
  {
   "cell_type": "code",
   "execution_count": 54,
   "id": "635bb545",
   "metadata": {},
   "outputs": [],
   "source": [
    "df1=pd.DataFrame(df1)"
   ]
  },
  {
   "cell_type": "code",
   "execution_count": 55,
   "id": "b340ba2c",
   "metadata": {},
   "outputs": [
    {
     "data": {
      "text/html": [
       "<div>\n",
       "<style scoped>\n",
       "    .dataframe tbody tr th:only-of-type {\n",
       "        vertical-align: middle;\n",
       "    }\n",
       "\n",
       "    .dataframe tbody tr th {\n",
       "        vertical-align: top;\n",
       "    }\n",
       "\n",
       "    .dataframe thead th {\n",
       "        text-align: right;\n",
       "    }\n",
       "</style>\n",
       "<table border=\"1\" class=\"dataframe\">\n",
       "  <thead>\n",
       "    <tr style=\"text-align: right;\">\n",
       "      <th></th>\n",
       "      <th>London</th>\n",
       "      <th>Beijing</th>\n",
       "    </tr>\n",
       "  </thead>\n",
       "  <tbody>\n",
       "    <tr>\n",
       "      <th>2012</th>\n",
       "      <td>205.0</td>\n",
       "      <td>NaN</td>\n",
       "    </tr>\n",
       "    <tr>\n",
       "      <th>2008</th>\n",
       "      <td>NaN</td>\n",
       "      <td>204.0</td>\n",
       "    </tr>\n",
       "  </tbody>\n",
       "</table>\n",
       "</div>"
      ],
      "text/plain": [
       "      London  Beijing\n",
       "2012   205.0      NaN\n",
       "2008     NaN    204.0"
      ]
     },
     "execution_count": 55,
     "metadata": {},
     "output_type": "execute_result"
    }
   ],
   "source": [
    "df1"
   ]
  },
  {
   "cell_type": "code",
   "execution_count": 56,
   "id": "6b08eea8",
   "metadata": {},
   "outputs": [
    {
     "data": {
      "text/plain": [
       "0     London\n",
       "1    Beijing\n",
       "2     Athens\n",
       "3     Sydney\n",
       "4    Atlanta\n",
       "Name: HostCity, dtype: object"
      ]
     },
     "execution_count": 56,
     "metadata": {},
     "output_type": "execute_result"
    }
   ],
   "source": [
    "#viewing dataframes\n",
    "df.HostCity"
   ]
  },
  {
   "cell_type": "code",
   "execution_count": 57,
   "id": "622efe4c",
   "metadata": {},
   "outputs": [
    {
     "data": {
      "text/plain": [
       "<bound method NDFrame.describe of   HostCity  Year  No. of participating Countries\n",
       "0   London  2012                             205\n",
       "1  Beijing  2008                             204\n",
       "2   Athens  2004                             201\n",
       "3   Sydney  2000                             200\n",
       "4  Atlanta  1996                             197>"
      ]
     },
     "execution_count": 57,
     "metadata": {},
     "output_type": "execute_result"
    }
   ],
   "source": [
    "df.describe"
   ]
  },
  {
   "cell_type": "code",
   "execution_count": 63,
   "id": "1dda6cfd",
   "metadata": {},
   "outputs": [],
   "source": [
    "#Creating dataframe from dict of series\n",
    "#lets start by creating some series\n",
    "Oly1=pd.Series([205,204,201,200,197],index=[2012,2008,2004,2000,1996])\n",
    "Oly2=pd.Series(['London','Beijing','Athens','Sydney','Atlanta'],index=[2012,2008,2004,2000,1996])\n",
    "#They need to have the same index values"
   ]
  },
  {
   "cell_type": "code",
   "execution_count": 64,
   "id": "a9c67fad",
   "metadata": {},
   "outputs": [],
   "source": [
    "#Dtaframe from the series. Create a dict with the series as values\n",
    "Dframe={'No. of Countries Participating':Oly1,'Host Cities':Oly2}"
   ]
  },
  {
   "cell_type": "code",
   "execution_count": 65,
   "id": "1c184345",
   "metadata": {},
   "outputs": [],
   "source": [
    "df3=pd.DataFrame(Dframe)"
   ]
  },
  {
   "cell_type": "code",
   "execution_count": 66,
   "id": "7f18dc75",
   "metadata": {},
   "outputs": [
    {
     "data": {
      "text/html": [
       "<div>\n",
       "<style scoped>\n",
       "    .dataframe tbody tr th:only-of-type {\n",
       "        vertical-align: middle;\n",
       "    }\n",
       "\n",
       "    .dataframe tbody tr th {\n",
       "        vertical-align: top;\n",
       "    }\n",
       "\n",
       "    .dataframe thead th {\n",
       "        text-align: right;\n",
       "    }\n",
       "</style>\n",
       "<table border=\"1\" class=\"dataframe\">\n",
       "  <thead>\n",
       "    <tr style=\"text-align: right;\">\n",
       "      <th></th>\n",
       "      <th>No. of Countries Participating</th>\n",
       "      <th>Host Cities</th>\n",
       "    </tr>\n",
       "  </thead>\n",
       "  <tbody>\n",
       "    <tr>\n",
       "      <th>2012</th>\n",
       "      <td>205</td>\n",
       "      <td>London</td>\n",
       "    </tr>\n",
       "    <tr>\n",
       "      <th>2008</th>\n",
       "      <td>204</td>\n",
       "      <td>Beijing</td>\n",
       "    </tr>\n",
       "    <tr>\n",
       "      <th>2004</th>\n",
       "      <td>201</td>\n",
       "      <td>Athens</td>\n",
       "    </tr>\n",
       "    <tr>\n",
       "      <th>2000</th>\n",
       "      <td>200</td>\n",
       "      <td>Sydney</td>\n",
       "    </tr>\n",
       "    <tr>\n",
       "      <th>1996</th>\n",
       "      <td>197</td>\n",
       "      <td>Atlanta</td>\n",
       "    </tr>\n",
       "  </tbody>\n",
       "</table>\n",
       "</div>"
      ],
      "text/plain": [
       "      No. of Countries Participating Host Cities\n",
       "2012                             205      London\n",
       "2008                             204     Beijing\n",
       "2004                             201      Athens\n",
       "2000                             200      Sydney\n",
       "1996                             197     Atlanta"
      ]
     },
     "execution_count": 66,
     "metadata": {},
     "output_type": "execute_result"
    }
   ],
   "source": [
    "df3"
   ]
  },
  {
   "cell_type": "code",
   "execution_count": 70,
   "id": "cf1e581e",
   "metadata": {},
   "outputs": [],
   "source": [
    "#creating Dataframe from ndarray\n",
    "#Create the ndarrays then create a dict with keys(column names) and the ndarrays as values\n",
    "np_array=np.array([2012,2008,2004,2006])\n",
    "np_array2=np.array(['Masila','David','Mwendwa','Mailu'])\n",
    "dict_ndarray={'year':np_array,'Names':np_array2}"
   ]
  },
  {
   "cell_type": "code",
   "execution_count": 71,
   "id": "6776c96b",
   "metadata": {},
   "outputs": [],
   "source": [
    "df4=pd.DataFrame(dict_ndarray)"
   ]
  },
  {
   "cell_type": "code",
   "execution_count": 72,
   "id": "f325524b",
   "metadata": {},
   "outputs": [
    {
     "data": {
      "text/html": [
       "<div>\n",
       "<style scoped>\n",
       "    .dataframe tbody tr th:only-of-type {\n",
       "        vertical-align: middle;\n",
       "    }\n",
       "\n",
       "    .dataframe tbody tr th {\n",
       "        vertical-align: top;\n",
       "    }\n",
       "\n",
       "    .dataframe thead th {\n",
       "        text-align: right;\n",
       "    }\n",
       "</style>\n",
       "<table border=\"1\" class=\"dataframe\">\n",
       "  <thead>\n",
       "    <tr style=\"text-align: right;\">\n",
       "      <th></th>\n",
       "      <th>year</th>\n",
       "      <th>Names</th>\n",
       "    </tr>\n",
       "  </thead>\n",
       "  <tbody>\n",
       "    <tr>\n",
       "      <th>0</th>\n",
       "      <td>2012</td>\n",
       "      <td>Masila</td>\n",
       "    </tr>\n",
       "    <tr>\n",
       "      <th>1</th>\n",
       "      <td>2008</td>\n",
       "      <td>David</td>\n",
       "    </tr>\n",
       "    <tr>\n",
       "      <th>2</th>\n",
       "      <td>2004</td>\n",
       "      <td>Mwendwa</td>\n",
       "    </tr>\n",
       "    <tr>\n",
       "      <th>3</th>\n",
       "      <td>2006</td>\n",
       "      <td>Mailu</td>\n",
       "    </tr>\n",
       "  </tbody>\n",
       "</table>\n",
       "</div>"
      ],
      "text/plain": [
       "   year    Names\n",
       "0  2012   Masila\n",
       "1  2008    David\n",
       "2  2004  Mwendwa\n",
       "3  2006    Mailu"
      ]
     },
     "execution_count": 72,
     "metadata": {},
     "output_type": "execute_result"
    }
   ],
   "source": [
    "df4"
   ]
  },
  {
   "cell_type": "code",
   "execution_count": 73,
   "id": "debf4fc4",
   "metadata": {},
   "outputs": [
    {
     "data": {
      "text/plain": [
       "<bound method NDFrame.describe of    year    Names\n",
       "0  2012   Masila\n",
       "1  2008    David\n",
       "2  2004  Mwendwa\n",
       "3  2006    Mailu>"
      ]
     },
     "execution_count": 73,
     "metadata": {},
     "output_type": "execute_result"
    }
   ],
   "source": [
    "df4.describe"
   ]
  },
  {
   "cell_type": "code",
   "execution_count": 74,
   "id": "32dcd242",
   "metadata": {},
   "outputs": [
    {
     "data": {
      "text/plain": [
       "0     Masila\n",
       "1      David\n",
       "2    Mwendwa\n",
       "3      Mailu\n",
       "Name: Names, dtype: object"
      ]
     },
     "execution_count": 74,
     "metadata": {},
     "output_type": "execute_result"
    }
   ],
   "source": [
    "df4.Names"
   ]
  },
  {
   "cell_type": "markdown",
   "id": "a3df9cb9",
   "metadata": {},
   "source": [
    "### Viewing and Selecting data in pandas"
   ]
  },
  {
   "cell_type": "code",
   "execution_count": null,
   "id": "fb194261",
   "metadata": {},
   "outputs": [],
   "source": []
  }
 ],
 "metadata": {
  "kernelspec": {
   "display_name": "Python 3",
   "language": "python",
   "name": "python3"
  },
  "language_info": {
   "codemirror_mode": {
    "name": "ipython",
    "version": 3
   },
   "file_extension": ".py",
   "mimetype": "text/x-python",
   "name": "python",
   "nbconvert_exporter": "python",
   "pygments_lexer": "ipython3",
   "version": "3.9.1"
  }
 },
 "nbformat": 4,
 "nbformat_minor": 5
}
