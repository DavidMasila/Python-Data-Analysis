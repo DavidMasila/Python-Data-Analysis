{
 "cells": [
  {
   "cell_type": "markdown",
   "id": "772f9e86",
   "metadata": {},
   "source": [
    "# Python Pandas"
   ]
  },
  {
   "cell_type": "code",
   "execution_count": 1,
   "id": "cbd6f71f",
   "metadata": {},
   "outputs": [],
   "source": [
    "import pandas as pd"
   ]
  },
  {
   "cell_type": "code",
   "execution_count": 2,
   "id": "8525e51b",
   "metadata": {},
   "outputs": [],
   "source": [
    "import numpy as np"
   ]
  },
  {
   "cell_type": "markdown",
   "id": "257bbe81",
   "metadata": {},
   "source": [
    "## Panda Series"
   ]
  },
  {
   "cell_type": "code",
   "execution_count": 3,
   "id": "64edf2e9",
   "metadata": {},
   "outputs": [],
   "source": [
    "#creating a panda series\n",
    "letters='abcdefg'"
   ]
  },
  {
   "cell_type": "code",
   "execution_count": 4,
   "id": "0c7a5759",
   "metadata": {},
   "outputs": [],
   "source": [
    "first_series=pd.Series(list(letters))"
   ]
  },
  {
   "cell_type": "code",
   "execution_count": 5,
   "id": "71532e4d",
   "metadata": {},
   "outputs": [
    {
     "data": {
      "text/plain": [
       "0    a\n",
       "1    b\n",
       "2    c\n",
       "3    d\n",
       "4    e\n",
       "5    f\n",
       "6    g\n",
       "dtype: object"
      ]
     },
     "execution_count": 5,
     "metadata": {},
     "output_type": "execute_result"
    }
   ],
   "source": [
    "first_series"
   ]
  },
  {
   "cell_type": "code",
   "execution_count": 6,
   "id": "e46bf5f8",
   "metadata": {},
   "outputs": [],
   "source": [
    "#Series from a ndarray\n",
    "np_country=np.array(['Kenya','Uganda','South Africa','Tanzania','Ghana','Nigeria','Egypt','Algeria'])"
   ]
  },
  {
   "cell_type": "code",
   "execution_count": 8,
   "id": "80f19e37",
   "metadata": {},
   "outputs": [],
   "source": [
    "Series_country=pd.Series(np_country)"
   ]
  },
  {
   "cell_type": "code",
   "execution_count": 9,
   "id": "e7131ddc",
   "metadata": {},
   "outputs": [
    {
     "data": {
      "text/plain": [
       "0           Kenya\n",
       "1          Uganda\n",
       "2    South Africa\n",
       "3        Tanzania\n",
       "4           Ghana\n",
       "5         Nigeria\n",
       "6           Egypt\n",
       "7         Algeria\n",
       "dtype: object"
      ]
     },
     "execution_count": 9,
     "metadata": {},
     "output_type": "execute_result"
    }
   ],
   "source": [
    "Series_country"
   ]
  },
  {
   "cell_type": "code",
   "execution_count": 10,
   "id": "be8d14ee",
   "metadata": {},
   "outputs": [
    {
     "data": {
      "text/plain": [
       "'Kenya'"
      ]
     },
     "execution_count": 10,
     "metadata": {},
     "output_type": "execute_result"
    }
   ],
   "source": [
    "Series_country[0]"
   ]
  },
  {
   "cell_type": "code",
   "execution_count": 11,
   "id": "9f83b472",
   "metadata": {},
   "outputs": [],
   "source": [
    "GDP=[234,546,567,890,123,456,567,789]"
   ]
  },
  {
   "cell_type": "code",
   "execution_count": 14,
   "id": "a8f93929",
   "metadata": {},
   "outputs": [],
   "source": [
    "#series from dict\n",
    "Series2=pd.Series(GDP,index=[np_country])"
   ]
  },
  {
   "cell_type": "code",
   "execution_count": 13,
   "id": "10c8b340",
   "metadata": {},
   "outputs": [
    {
     "data": {
      "text/plain": [
       "Kenya           234\n",
       "Uganda          546\n",
       "South Africa    567\n",
       "Tanzania        890\n",
       "Ghana           123\n",
       "Nigeria         456\n",
       "Egypt           567\n",
       "Algeria         789\n",
       "dtype: int64"
      ]
     },
     "execution_count": 13,
     "metadata": {},
     "output_type": "execute_result"
    }
   ],
   "source": [
    "Series2"
   ]
  },
  {
   "cell_type": "code",
   "execution_count": 15,
   "id": "90a46131",
   "metadata": {},
   "outputs": [],
   "source": [
    "#Creating Series from scalar\n",
    "scalar_series=pd.Series(5.,index=['a','b','d','d','e'])"
   ]
  },
  {
   "cell_type": "code",
   "execution_count": 16,
   "id": "0e18fffd",
   "metadata": {},
   "outputs": [
    {
     "data": {
      "text/plain": [
       "a    5.0\n",
       "b    5.0\n",
       "d    5.0\n",
       "d    5.0\n",
       "e    5.0\n",
       "dtype: float64"
      ]
     },
     "execution_count": 16,
     "metadata": {},
     "output_type": "execute_result"
    }
   ],
   "source": [
    "scalar_series"
   ]
  },
  {
   "cell_type": "markdown",
   "id": "ae7672b4",
   "metadata": {},
   "source": [
    "pd.Series(data,index)"
   ]
  },
  {
   "cell_type": "code",
   "execution_count": 18,
   "id": "339c68e1",
   "metadata": {},
   "outputs": [
    {
     "data": {
      "text/plain": [
       "0           Kenya\n",
       "1          Uganda\n",
       "2    South Africa\n",
       "3        Tanzania\n",
       "dtype: object"
      ]
     },
     "execution_count": 18,
     "metadata": {},
     "output_type": "execute_result"
    }
   ],
   "source": [
    "#accessing\n",
    "Series_country[0:4]"
   ]
  },
  {
   "cell_type": "code",
   "execution_count": 19,
   "id": "ca32b646",
   "metadata": {},
   "outputs": [
    {
     "data": {
      "text/plain": [
       "Kenya           234\n",
       "Uganda          546\n",
       "South Africa    567\n",
       "Tanzania        890\n",
       "Ghana           123\n",
       "dtype: int64"
      ]
     },
     "execution_count": 19,
     "metadata": {},
     "output_type": "execute_result"
    }
   ],
   "source": [
    "Series2[0:5]"
   ]
  },
  {
   "cell_type": "code",
   "execution_count": 40,
   "id": "9633550e",
   "metadata": {},
   "outputs": [
    {
     "data": {
      "text/plain": [
       "Uganda    546\n",
       "dtype: int64"
      ]
     },
     "execution_count": 40,
     "metadata": {},
     "output_type": "execute_result"
    }
   ],
   "source": [
    "#accessing values along a row through index name\n",
    "Series2.loc[\"Uganda\"]"
   ]
  },
  {
   "cell_type": "code",
   "execution_count": 39,
   "id": "6a1de3ae",
   "metadata": {},
   "outputs": [
    {
     "data": {
      "text/plain": [
       "234"
      ]
     },
     "execution_count": 39,
     "metadata": {},
     "output_type": "execute_result"
    }
   ],
   "source": [
    "#accessing values in a row through their index's index\n",
    "Series2.iloc[0]"
   ]
  },
  {
   "cell_type": "markdown",
   "id": "f0c2983b",
   "metadata": {},
   "source": [
    "looking up through index position.\n",
    "Basically accessing the rows"
   ]
  },
  {
   "cell_type": "markdown",
   "id": "c6f6de36",
   "metadata": {},
   "source": [
    "#### Vectorized Operations in Series\n",
    "\n",
    "<p>Vectorized operations show how series can be added. Are performed by the index positions of data elements"
   ]
  },
  {
   "cell_type": "code",
   "execution_count": 23,
   "id": "68aefb0d",
   "metadata": {},
   "outputs": [],
   "source": [
    "Data=[1,2,3,4]\n",
    "Data2=[10,20,30,40]"
   ]
  },
  {
   "cell_type": "code",
   "execution_count": 28,
   "id": "6aec44c6",
   "metadata": {},
   "outputs": [],
   "source": [
    "first_vector_series=pd.Series(Data,index=['a','b','c','d'])"
   ]
  },
  {
   "cell_type": "code",
   "execution_count": 29,
   "id": "af0acb0d",
   "metadata": {},
   "outputs": [],
   "source": [
    "second_vector_series=pd.Series(Data2,index=['a','b','c','d'])"
   ]
  },
  {
   "cell_type": "code",
   "execution_count": 30,
   "id": "0ebab51c",
   "metadata": {},
   "outputs": [
    {
     "data": {
      "text/plain": [
       "a    11\n",
       "b    22\n",
       "c    33\n",
       "d    44\n",
       "dtype: int64"
      ]
     },
     "execution_count": 30,
     "metadata": {},
     "output_type": "execute_result"
    }
   ],
   "source": [
    "first_vector_series+second_vector_series"
   ]
  },
  {
   "cell_type": "markdown",
   "id": "4193f95d",
   "metadata": {},
   "source": [
    "<p> The data element is bound to the index position. Shuffling shows these results </p>"
   ]
  },
  {
   "cell_type": "code",
   "execution_count": 31,
   "id": "e27c4307",
   "metadata": {},
   "outputs": [],
   "source": [
    "second_vector_series=pd.Series(Data2,index=['a','d','b','c'])"
   ]
  },
  {
   "cell_type": "code",
   "execution_count": 32,
   "id": "e11196cd",
   "metadata": {},
   "outputs": [
    {
     "data": {
      "text/plain": [
       "a    11\n",
       "b    32\n",
       "c    43\n",
       "d    24\n",
       "dtype: int64"
      ]
     },
     "execution_count": 32,
     "metadata": {},
     "output_type": "execute_result"
    }
   ],
   "source": [
    "first_vector_series+second_vector_series"
   ]
  },
  {
   "cell_type": "code",
   "execution_count": 35,
   "id": "96bed856",
   "metadata": {},
   "outputs": [],
   "source": [
    "#let's introduce new indices\n",
    "second_vector_series=pd.Series(Data2,index=['a','b','e','f'])"
   ]
  },
  {
   "cell_type": "code",
   "execution_count": 36,
   "id": "ccce71ff",
   "metadata": {},
   "outputs": [
    {
     "data": {
      "text/plain": [
       "a    11.0\n",
       "b    22.0\n",
       "c     NaN\n",
       "d     NaN\n",
       "e     NaN\n",
       "f     NaN\n",
       "dtype: float64"
      ]
     },
     "execution_count": 36,
     "metadata": {},
     "output_type": "execute_result"
    }
   ],
   "source": [
    "first_vector_series+second_vector_series"
   ]
  },
  {
   "cell_type": "markdown",
   "id": "bbb9ddf6",
   "metadata": {},
   "source": [
    "<p>Further shows the data elemet boundness to the index. The new second_vector_series lacks c and d and threfore no additions could be made </p>\n",
    "The additional letters do not match any index in the first series </br>"
   ]
  },
  {
   "cell_type": "markdown",
   "id": "b4eab334",
   "metadata": {},
   "source": [
    "## Panda DataFrame"
   ]
  },
  {
   "cell_type": "code",
   "execution_count": null,
   "id": "3da2d8e0",
   "metadata": {},
   "outputs": [],
   "source": []
  }
 ],
 "metadata": {
  "kernelspec": {
   "display_name": "Python 3",
   "language": "python",
   "name": "python3"
  },
  "language_info": {
   "codemirror_mode": {
    "name": "ipython",
    "version": 3
   },
   "file_extension": ".py",
   "mimetype": "text/x-python",
   "name": "python",
   "nbconvert_exporter": "python",
   "pygments_lexer": "ipython3",
   "version": "3.9.1"
  }
 },
 "nbformat": 4,
 "nbformat_minor": 5
}
