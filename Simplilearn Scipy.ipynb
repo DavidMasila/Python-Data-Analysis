{
 "cells": [
  {
   "cell_type": "markdown",
   "id": "3bdb3261",
   "metadata": {},
   "source": [
    "# Scientific python (SciPY)"
   ]
  },
  {
   "cell_type": "markdown",
   "id": "f07ed231",
   "metadata": {},
   "source": [
    "### Scipy sub-packages"
   ]
  },
  {
   "cell_type": "markdown",
   "id": "0f50b9eb",
   "metadata": {},
   "source": [
    "#### Integration"
   ]
  },
  {
   "cell_type": "code",
   "execution_count": 2,
   "id": "a2b05685",
   "metadata": {},
   "outputs": [],
   "source": [
    "#quad integration\n",
    "from scipy.integrate import quad"
   ]
  },
  {
   "cell_type": "code",
   "execution_count": 3,
   "id": "5272d255",
   "metadata": {},
   "outputs": [],
   "source": [
    "def integratefunction(x):\n",
    "    return x"
   ]
  },
  {
   "cell_type": "code",
   "execution_count": 4,
   "id": "89f7c74c",
   "metadata": {},
   "outputs": [
    {
     "data": {
      "text/plain": [
       "(0.5, 5.551115123125783e-15)"
      ]
     },
     "execution_count": 4,
     "metadata": {},
     "output_type": "execute_result"
    }
   ],
   "source": [
    "quad(integratefunction, 0,1)"
   ]
  },
  {
   "cell_type": "code",
   "execution_count": 5,
   "id": "31785129",
   "metadata": {},
   "outputs": [],
   "source": [
    "def integrateFn(x,a,b):\n",
    "    return x*a+b"
   ]
  },
  {
   "cell_type": "code",
   "execution_count": 6,
   "id": "14bb478f",
   "metadata": {},
   "outputs": [],
   "source": [
    "a=3\n",
    "b=2"
   ]
  },
  {
   "cell_type": "code",
   "execution_count": 7,
   "id": "fbdee361",
   "metadata": {},
   "outputs": [
    {
     "data": {
      "text/plain": [
       "(3.5, 3.885780586188048e-14)"
      ]
     },
     "execution_count": 7,
     "metadata": {},
     "output_type": "execute_result"
    }
   ],
   "source": [
    "quad(integrateFn,0,1,args=(a,b))"
   ]
  },
  {
   "cell_type": "code",
   "execution_count": 9,
   "id": "96c67b31",
   "metadata": {},
   "outputs": [],
   "source": [
    "import scipy.integrate as integrate"
   ]
  },
  {
   "cell_type": "code",
   "execution_count": 10,
   "id": "2bcd5861",
   "metadata": {},
   "outputs": [
    {
     "data": {
      "text/plain": [
       "(3.0, 4.436070580899685e-14)"
      ]
     },
     "execution_count": 10,
     "metadata": {},
     "output_type": "execute_result"
    }
   ],
   "source": [
    "def f(x,y):\n",
    "    return x + y\n",
    "integrate.dblquad(f, 0,1,lambda x: 0, lambda x:2)"
   ]
  },
  {
   "cell_type": "markdown",
   "id": "f3ad1275",
   "metadata": {},
   "source": [
    "#### optimization"
   ]
  },
  {
   "cell_type": "code",
   "execution_count": 11,
   "id": "d8a1fd2c",
   "metadata": {},
   "outputs": [],
   "source": [
    "import numpy as np\n",
    "from scipy import optimize"
   ]
  },
  {
   "cell_type": "code",
   "execution_count": 12,
   "id": "116845cd",
   "metadata": {},
   "outputs": [],
   "source": [
    "def f(x):\n",
    "    return x**2 +5*np.sin(x)"
   ]
  },
  {
   "cell_type": "code",
   "execution_count": 13,
   "id": "081a9b83",
   "metadata": {},
   "outputs": [
    {
     "name": "stdout",
     "output_type": "stream",
     "text": [
      "Optimization terminated successfully.\n",
      "         Current function value: -3.246394\n",
      "         Iterations: 5\n",
      "         Function evaluations: 18\n",
      "         Gradient evaluations: 9\n"
     ]
    }
   ],
   "source": [
    "minimaValue=optimize.minimize(f,x0=2, method='bfgs',options={'disp':True})"
   ]
  },
  {
   "cell_type": "code",
   "execution_count": 14,
   "id": "213cffb4",
   "metadata": {},
   "outputs": [],
   "source": [
    "minimaValueWithoutOpt = optimize.minimize(f,x0=2, method='bfgs')"
   ]
  },
  {
   "cell_type": "code",
   "execution_count": 15,
   "id": "9c36632b",
   "metadata": {},
   "outputs": [
    {
     "data": {
      "text/plain": [
       "      fun: -3.2463942726915196\n",
       " hess_inv: array([[0.15445831]])\n",
       "      jac: array([-4.47034836e-07])\n",
       "  message: 'Optimization terminated successfully.'\n",
       "     nfev: 18\n",
       "      nit: 5\n",
       "     njev: 9\n",
       "   status: 0\n",
       "  success: True\n",
       "        x: array([-1.11051058])"
      ]
     },
     "execution_count": 15,
     "metadata": {},
     "output_type": "execute_result"
    }
   ],
   "source": [
    "minimaValueWithoutOpt"
   ]
  },
  {
   "cell_type": "markdown",
   "id": "c38da0a4",
   "metadata": {},
   "source": [
    "#### Linear Alegebra"
   ]
  },
  {
   "cell_type": "code",
   "execution_count": 16,
   "id": "1ab58d75",
   "metadata": {},
   "outputs": [],
   "source": [
    "#solving linear systems\n",
    "from scipy import linalg"
   ]
  },
  {
   "cell_type": "markdown",
   "id": "2f7903d0",
   "metadata": {},
   "source": [
    "lets try to solve \n",
    "<p> 2x+3y+z=21</p>\n",
    "<p> -x+5y+4z=9</p>\n",
    "<p> 3x+2y+9z=6</p>"
   ]
  },
  {
   "cell_type": "code",
   "execution_count": 19,
   "id": "c7cc4d6c",
   "metadata": {},
   "outputs": [],
   "source": [
    "numArray=np.array([[2,3,1],[-1,5,4],[3,2,9]])"
   ]
  },
  {
   "cell_type": "code",
   "execution_count": 24,
   "id": "45fef8b2",
   "metadata": {},
   "outputs": [],
   "source": [
    "numArrValue=np.array([21,9,6]) #the = to values"
   ]
  },
  {
   "cell_type": "code",
   "execution_count": 26,
   "id": "88f89a5a",
   "metadata": {},
   "outputs": [
    {
     "data": {
      "text/plain": [
       "array([ 4.95,  4.35, -1.95])"
      ]
     },
     "execution_count": 26,
     "metadata": {},
     "output_type": "execute_result"
    }
   ],
   "source": [
    "linalg.solve(numArray,numArrValue) #values for x,yand z"
   ]
  },
  {
   "cell_type": "markdown",
   "id": "1157be47",
   "metadata": {},
   "source": [
    "#### Singlar VAlue decomposition"
   ]
  },
  {
   "cell_type": "code",
   "execution_count": 27,
   "id": "95aa810b",
   "metadata": {},
   "outputs": [],
   "source": [
    "numSvdArray=np.array([[3,5,1],[9,5,7]])"
   ]
  },
  {
   "cell_type": "code",
   "execution_count": 28,
   "id": "3b0f27e4",
   "metadata": {},
   "outputs": [
    {
     "data": {
      "text/plain": [
       "(2, 3)"
      ]
     },
     "execution_count": 28,
     "metadata": {},
     "output_type": "execute_result"
    }
   ],
   "source": [
    "numSvdArray.shape"
   ]
  },
  {
   "cell_type": "code",
   "execution_count": 29,
   "id": "fc1c0fb9",
   "metadata": {},
   "outputs": [
    {
     "data": {
      "text/plain": [
       "(array([[-0.37879831, -0.92547925],\n",
       "        [-0.92547925,  0.37879831]]),\n",
       " array([13.38464336,  3.29413449]),\n",
       " array([[-0.7072066 , -0.4872291 , -0.51231496],\n",
       "        [ 0.19208294, -0.82977932,  0.52399467],\n",
       "        [-0.68041382,  0.27216553,  0.68041382]]))"
      ]
     },
     "execution_count": 29,
     "metadata": {},
     "output_type": "execute_result"
    }
   ],
   "source": [
    "linalg.svd(numSvdArray)"
   ]
  },
  {
   "cell_type": "markdown",
   "id": "6db7ceae",
   "metadata": {},
   "source": [
    "Eigenvalues and Eigenvector"
   ]
  },
  {
   "cell_type": "code",
   "execution_count": 31,
   "id": "ca7c9635",
   "metadata": {},
   "outputs": [],
   "source": [
    "test_rating_data=np.array([[5,8],[7,9]])"
   ]
  },
  {
   "cell_type": "code",
   "execution_count": 32,
   "id": "0b095abf",
   "metadata": {},
   "outputs": [],
   "source": [
    "eigenValues, eigenVector=linalg.eig(test_rating_data)"
   ]
  },
  {
   "cell_type": "code",
   "execution_count": 33,
   "id": "fb4847c8",
   "metadata": {},
   "outputs": [],
   "source": [
    "first_eigen,second_eigen=eigenValues"
   ]
  },
  {
   "cell_type": "code",
   "execution_count": 34,
   "id": "2f22e73f",
   "metadata": {},
   "outputs": [
    {
     "name": "stdout",
     "output_type": "stream",
     "text": [
      "(-0.745966692414834+0j) (14.745966692414834+0j)\n"
     ]
    }
   ],
   "source": [
    "print(first_eigen,second_eigen)"
   ]
  },
  {
   "cell_type": "code",
   "execution_count": 35,
   "id": "1a3a6744",
   "metadata": {},
   "outputs": [
    {
     "name": "stdout",
     "output_type": "stream",
     "text": [
      "[-0.81220939  0.58336601]\n"
     ]
    }
   ],
   "source": [
    "print(eigenVector[:,0])"
   ]
  },
  {
   "cell_type": "code",
   "execution_count": 36,
   "id": "f671511f",
   "metadata": {},
   "outputs": [
    {
     "name": "stdout",
     "output_type": "stream",
     "text": [
      "[-0.63447346 -0.77294465]\n"
     ]
    }
   ],
   "source": [
    "print(eigenVector[:,1])"
   ]
  },
  {
   "cell_type": "markdown",
   "id": "8f3062b7",
   "metadata": {},
   "source": [
    "#### Statistics"
   ]
  },
  {
   "cell_type": "code",
   "execution_count": 38,
   "id": "872a5be6",
   "metadata": {},
   "outputs": [],
   "source": [
    "from scipy.stats import norm"
   ]
  },
  {
   "cell_type": "code",
   "execution_count": 40,
   "id": "532061aa",
   "metadata": {},
   "outputs": [
    {
     "data": {
      "text/plain": [
       "array([-0.82911743, -0.17096903,  0.84013043, -0.52090144,  0.07058396,\n",
       "        0.95766823, -1.74636563,  0.00800296,  0.62796957, -0.85920705])"
      ]
     },
     "execution_count": 40,
     "metadata": {},
     "output_type": "execute_result"
    }
   ],
   "source": [
    "norm.rvs(loc=0,scale=1,size=10)"
   ]
  },
  {
   "cell_type": "code",
   "execution_count": 43,
   "id": "ee32c9e3",
   "metadata": {},
   "outputs": [
    {
     "data": {
      "text/plain": [
       "0.9772498680518208"
      ]
     },
     "execution_count": 43,
     "metadata": {},
     "output_type": "execute_result"
    }
   ],
   "source": [
    "norm.cdf(5,loc=1,scale=2)"
   ]
  },
  {
   "cell_type": "code",
   "execution_count": 44,
   "id": "90b32f4e",
   "metadata": {},
   "outputs": [
    {
     "data": {
      "text/plain": [
       "1.0279773571668917e-18"
      ]
     },
     "execution_count": 44,
     "metadata": {},
     "output_type": "execute_result"
    }
   ],
   "source": [
    "norm.pdf(9,loc=0,scale=1)"
   ]
  },
  {
   "cell_type": "markdown",
   "id": "c971c474",
   "metadata": {},
   "source": [
    "#### Weave"
   ]
  },
  {
   "cell_type": "markdown",
   "id": "ffe3ab54",
   "metadata": {},
   "source": [
    "includes c/c++ into python"
   ]
  },
  {
   "cell_type": "markdown",
   "id": "9ef3f201",
   "metadata": {},
   "source": [
    "#### IO"
   ]
  },
  {
   "cell_type": "code",
   "execution_count": null,
   "id": "ebf18bfd",
   "metadata": {},
   "outputs": [],
   "source": []
  }
 ],
 "metadata": {
  "kernelspec": {
   "display_name": "Python 3",
   "language": "python",
   "name": "python3"
  },
  "language_info": {
   "codemirror_mode": {
    "name": "ipython",
    "version": 3
   },
   "file_extension": ".py",
   "mimetype": "text/x-python",
   "name": "python",
   "nbconvert_exporter": "python",
   "pygments_lexer": "ipython3",
   "version": "3.9.1"
  }
 },
 "nbformat": 4,
 "nbformat_minor": 5
}
