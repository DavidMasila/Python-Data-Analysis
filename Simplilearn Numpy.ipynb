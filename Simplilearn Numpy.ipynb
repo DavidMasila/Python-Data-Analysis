{
 "cells": [
  {
   "cell_type": "markdown",
   "id": "ac17227c",
   "metadata": {},
   "source": [
    "# Simplilearn: Numpy"
   ]
  },
  {
   "cell_type": "code",
   "execution_count": 2,
   "id": "a2b718ef",
   "metadata": {},
   "outputs": [],
   "source": [
    "import numpy as np"
   ]
  },
  {
   "cell_type": "code",
   "execution_count": 3,
   "id": "0b58bcda",
   "metadata": {},
   "outputs": [],
   "source": [
    "first_numpy_array=np.array([1,2,3,4])"
   ]
  },
  {
   "cell_type": "code",
   "execution_count": 4,
   "id": "f8845457",
   "metadata": {},
   "outputs": [
    {
     "name": "stdout",
     "output_type": "stream",
     "text": [
      "[1 2 3 4]\n"
     ]
    }
   ],
   "source": [
    "print(first_numpy_array)"
   ]
  },
  {
   "cell_type": "code",
   "execution_count": 5,
   "id": "70ff4d2c",
   "metadata": {},
   "outputs": [],
   "source": [
    "array_with_zeros=np.zeros((3,3))"
   ]
  },
  {
   "cell_type": "code",
   "execution_count": 6,
   "id": "836bf522",
   "metadata": {},
   "outputs": [
    {
     "data": {
      "text/plain": [
       "array([[0., 0., 0.],\n",
       "       [0., 0., 0.],\n",
       "       [0., 0., 0.]])"
      ]
     },
     "execution_count": 6,
     "metadata": {},
     "output_type": "execute_result"
    }
   ],
   "source": [
    "array_with_zeros"
   ]
  },
  {
   "cell_type": "code",
   "execution_count": 7,
   "id": "640221b4",
   "metadata": {},
   "outputs": [],
   "source": [
    "array_with_ones=np.ones((3,3))"
   ]
  },
  {
   "cell_type": "code",
   "execution_count": 8,
   "id": "6a0acfbe",
   "metadata": {},
   "outputs": [
    {
     "data": {
      "text/plain": [
       "array([[1., 1., 1.],\n",
       "       [1., 1., 1.],\n",
       "       [1., 1., 1.]])"
      ]
     },
     "execution_count": 8,
     "metadata": {},
     "output_type": "execute_result"
    }
   ],
   "source": [
    "array_with_ones"
   ]
  },
  {
   "cell_type": "code",
   "execution_count": 9,
   "id": "48d76350",
   "metadata": {},
   "outputs": [
    {
     "data": {
      "text/plain": [
       "array([[0., 0., 0.],\n",
       "       [0., 0., 0.]])"
      ]
     },
     "execution_count": 9,
     "metadata": {},
     "output_type": "execute_result"
    }
   ],
   "source": [
    "#array with empty\n",
    "array_with_empty=np.empty((2,3))\n",
    "array_with_empty"
   ]
  },
  {
   "cell_type": "code",
   "execution_count": 10,
   "id": "88b656d6",
   "metadata": {},
   "outputs": [],
   "source": [
    "#arange numpy function\n",
    "np_arange=np.arange(12)"
   ]
  },
  {
   "cell_type": "code",
   "execution_count": 11,
   "id": "1b0211fb",
   "metadata": {},
   "outputs": [
    {
     "name": "stdout",
     "output_type": "stream",
     "text": [
      "[ 0  1  2  3  4  5  6  7  8  9 10 11]\n"
     ]
    }
   ],
   "source": [
    "print(np_arange)"
   ]
  },
  {
   "cell_type": "code",
   "execution_count": 12,
   "id": "211de49f",
   "metadata": {},
   "outputs": [
    {
     "data": {
      "text/plain": [
       "array([[ 0,  1,  2,  3],\n",
       "       [ 4,  5,  6,  7],\n",
       "       [ 8,  9, 10, 11]])"
      ]
     },
     "execution_count": 12,
     "metadata": {},
     "output_type": "execute_result"
    }
   ],
   "source": [
    "#reshape method to change array\n",
    "np.reshape(np_arange,(3,4))"
   ]
  },
  {
   "cell_type": "code",
   "execution_count": 13,
   "id": "15153a99",
   "metadata": {},
   "outputs": [],
   "source": [
    "#linspace for linearly spaced daata elements, To equally divide data\n",
    "#the first value is where to start, where to finish adn the number of equidistant elements"
   ]
  },
  {
   "cell_type": "code",
   "execution_count": 14,
   "id": "4bff8c5e",
   "metadata": {},
   "outputs": [],
   "source": [
    "np_linspace=np.linspace(1,6,5)"
   ]
  },
  {
   "cell_type": "code",
   "execution_count": 15,
   "id": "a892295f",
   "metadata": {},
   "outputs": [
    {
     "name": "stdout",
     "output_type": "stream",
     "text": [
      "[1.   2.25 3.5  4.75 6.  ]\n"
     ]
    }
   ],
   "source": [
    "print(np_linspace)"
   ]
  },
  {
   "cell_type": "code",
   "execution_count": 16,
   "id": "e9fde594",
   "metadata": {},
   "outputs": [
    {
     "name": "stdout",
     "output_type": "stream",
     "text": [
      "[ 0  1  2  3  4  5  6  7  8  9 10 11 12 13 14]\n"
     ]
    }
   ],
   "source": [
    "#one dimentional array\n",
    "oneD_array=np.arange(15)\n",
    "print(oneD_array)"
   ]
  },
  {
   "cell_type": "code",
   "execution_count": 17,
   "id": "770103fc",
   "metadata": {},
   "outputs": [],
   "source": [
    "#two dimentional array\n",
    "twoD_array=np.reshape(oneD_array,(3,5))"
   ]
  },
  {
   "cell_type": "code",
   "execution_count": 18,
   "id": "d245c7ba",
   "metadata": {},
   "outputs": [
    {
     "name": "stdout",
     "output_type": "stream",
     "text": [
      "[[ 0  1  2  3  4]\n",
      " [ 5  6  7  8  9]\n",
      " [10 11 12 13 14]]\n"
     ]
    }
   ],
   "source": [
    "print(twoD_array)"
   ]
  },
  {
   "cell_type": "code",
   "execution_count": 19,
   "id": "ac5cf0a2",
   "metadata": {},
   "outputs": [
    {
     "data": {
      "text/plain": [
       "array([[ 0,  1,  2,  3,  4],\n",
       "       [ 5,  6,  7,  8,  9],\n",
       "       [10, 11, 12, 13, 14]])"
      ]
     },
     "execution_count": 19,
     "metadata": {},
     "output_type": "execute_result"
    }
   ],
   "source": [
    "twoD_array"
   ]
  },
  {
   "cell_type": "code",
   "execution_count": 20,
   "id": "defab136",
   "metadata": {},
   "outputs": [],
   "source": [
    "#three dimentional array\n",
    "ThreeD_array=np.arange(27).reshape(3,3,3)"
   ]
  },
  {
   "cell_type": "code",
   "execution_count": 21,
   "id": "dd02a026",
   "metadata": {},
   "outputs": [
    {
     "name": "stdout",
     "output_type": "stream",
     "text": [
      "[[[ 0  1  2]\n",
      "  [ 3  4  5]\n",
      "  [ 6  7  8]]\n",
      "\n",
      " [[ 9 10 11]\n",
      "  [12 13 14]\n",
      "  [15 16 17]]\n",
      "\n",
      " [[18 19 20]\n",
      "  [21 22 23]\n",
      "  [24 25 26]]]\n"
     ]
    }
   ],
   "source": [
    "print(ThreeD_array)"
   ]
  },
  {
   "cell_type": "code",
   "execution_count": 22,
   "id": "1047ec99",
   "metadata": {},
   "outputs": [
    {
     "data": {
      "text/plain": [
       "3"
      ]
     },
     "execution_count": 22,
     "metadata": {},
     "output_type": "execute_result"
    }
   ],
   "source": [
    "ThreeD_array.ndim"
   ]
  },
  {
   "cell_type": "code",
   "execution_count": 23,
   "id": "108a8f1b",
   "metadata": {},
   "outputs": [
    {
     "data": {
      "text/plain": [
       "(3, 3, 3)"
      ]
     },
     "execution_count": 23,
     "metadata": {},
     "output_type": "execute_result"
    }
   ],
   "source": [
    "ThreeD_array.shape"
   ]
  },
  {
   "cell_type": "code",
   "execution_count": 24,
   "id": "64bf49cb",
   "metadata": {},
   "outputs": [
    {
     "data": {
      "text/plain": [
       "27"
      ]
     },
     "execution_count": 24,
     "metadata": {},
     "output_type": "execute_result"
    }
   ],
   "source": [
    "ThreeD_array.size"
   ]
  },
  {
   "cell_type": "code",
   "execution_count": 25,
   "id": "a74b4109",
   "metadata": {},
   "outputs": [
    {
     "data": {
      "text/plain": [
       "dtype('int32')"
      ]
     },
     "execution_count": 25,
     "metadata": {},
     "output_type": "execute_result"
    }
   ],
   "source": [
    "ThreeD_array.dtype"
   ]
  },
  {
   "cell_type": "markdown",
   "id": "e99af690",
   "metadata": {},
   "source": [
    "### Basic operations"
   ]
  },
  {
   "cell_type": "code",
   "execution_count": 26,
   "id": "0869d709",
   "metadata": {},
   "outputs": [],
   "source": [
    "first_trial_cyclist=[10,15,17,26]\n",
    "second_trial_cyclist=[12,11,21,24]"
   ]
  },
  {
   "cell_type": "code",
   "execution_count": 27,
   "id": "0b05a283",
   "metadata": {},
   "outputs": [],
   "source": [
    "np_Fst=np.array(first_trial_cyclist)"
   ]
  },
  {
   "cell_type": "code",
   "execution_count": 28,
   "id": "573b3aaa",
   "metadata": {},
   "outputs": [],
   "source": [
    "np_Snd=np.array(second_trial_cyclist)"
   ]
  },
  {
   "cell_type": "code",
   "execution_count": 29,
   "id": "8b08788c",
   "metadata": {},
   "outputs": [
    {
     "data": {
      "text/plain": [
       "array([22, 26, 38, 50])"
      ]
     },
     "execution_count": 29,
     "metadata": {},
     "output_type": "execute_result"
    }
   ],
   "source": [
    "np_Fst+np_Snd"
   ]
  },
  {
   "cell_type": "markdown",
   "id": "fa239593",
   "metadata": {},
   "source": [
    "#### Mathematical operations"
   ]
  },
  {
   "cell_type": "code",
   "execution_count": 30,
   "id": "5cf1ebb8",
   "metadata": {},
   "outputs": [
    {
     "data": {
      "text/plain": [
       "65"
      ]
     },
     "execution_count": 30,
     "metadata": {},
     "output_type": "execute_result"
    }
   ],
   "source": [
    "#lets do addition\n",
    "np.add(45,20)"
   ]
  },
  {
   "cell_type": "code",
   "execution_count": 31,
   "id": "c84c8ac0",
   "metadata": {},
   "outputs": [
    {
     "data": {
      "text/plain": [
       "23"
      ]
     },
     "execution_count": 31,
     "metadata": {},
     "output_type": "execute_result"
    }
   ],
   "source": [
    "np.subtract(45,22)"
   ]
  },
  {
   "cell_type": "code",
   "execution_count": 32,
   "id": "f67e00d2",
   "metadata": {},
   "outputs": [],
   "source": [
    "np_daily_wage=np.array([7,9,13,8,11])*15"
   ]
  },
  {
   "cell_type": "code",
   "execution_count": 33,
   "id": "341f3f61",
   "metadata": {},
   "outputs": [
    {
     "name": "stdout",
     "output_type": "stream",
     "text": [
      "[105 135 195 120 165]\n"
     ]
    }
   ],
   "source": [
    "print(np_daily_wage)"
   ]
  },
  {
   "cell_type": "code",
   "execution_count": 34,
   "id": "c9ca01f9",
   "metadata": {},
   "outputs": [
    {
     "data": {
      "text/plain": [
       "720"
      ]
     },
     "execution_count": 34,
     "metadata": {},
     "output_type": "execute_result"
    }
   ],
   "source": [
    "sum(np_daily_wage)"
   ]
  },
  {
   "cell_type": "markdown",
   "id": "c4c9834c",
   "metadata": {},
   "source": [
    "#### Comparison operators"
   ]
  },
  {
   "cell_type": "code",
   "execution_count": 35,
   "id": "a0ebdcbf",
   "metadata": {},
   "outputs": [],
   "source": [
    "np_weekly_hrs=np.array([23,41,55,47,38])"
   ]
  },
  {
   "cell_type": "code",
   "execution_count": 36,
   "id": "4e38d078",
   "metadata": {},
   "outputs": [
    {
     "data": {
      "text/plain": [
       "array([False, False, False, False, False])"
      ]
     },
     "execution_count": 36,
     "metadata": {},
     "output_type": "execute_result"
    }
   ],
   "source": [
    "np_weekly_hrs > 100"
   ]
  },
  {
   "cell_type": "code",
   "execution_count": 37,
   "id": "cb7f368f",
   "metadata": {},
   "outputs": [
    {
     "data": {
      "text/plain": [
       "array([41, 55, 47])"
      ]
     },
     "execution_count": 37,
     "metadata": {},
     "output_type": "execute_result"
    }
   ],
   "source": [
    "np_weekly_hrs[np_weekly_hrs > 40]"
   ]
  },
  {
   "cell_type": "code",
   "execution_count": 38,
   "id": "8bd72378",
   "metadata": {},
   "outputs": [
    {
     "data": {
      "text/plain": [
       "array([23, 41, 55, 47, 38])"
      ]
     },
     "execution_count": 38,
     "metadata": {},
     "output_type": "execute_result"
    }
   ],
   "source": [
    "np_weekly_hrs[np_weekly_hrs != 40]"
   ]
  },
  {
   "cell_type": "markdown",
   "id": "273976ff",
   "metadata": {},
   "source": [
    "#### Logical operations"
   ]
  },
  {
   "cell_type": "code",
   "execution_count": 39,
   "id": "90a08ad8",
   "metadata": {},
   "outputs": [
    {
     "data": {
      "text/plain": [
       "array([23, 41, 47, 38])"
      ]
     },
     "execution_count": 39,
     "metadata": {},
     "output_type": "execute_result"
    }
   ],
   "source": [
    "#logical and operation\n",
    "np_weekly_hrs[np.logical_and(np_weekly_hrs>20,np_weekly_hrs<50)]"
   ]
  },
  {
   "cell_type": "code",
   "execution_count": 41,
   "id": "d3f3193f",
   "metadata": {},
   "outputs": [
    {
     "data": {
      "text/plain": [
       "array([23])"
      ]
     },
     "execution_count": 41,
     "metadata": {},
     "output_type": "execute_result"
    }
   ],
   "source": [
    "#logical not operation\n",
    "np_weekly_hrs[np.logical_not(np_weekly_hrs > 30)]\n",
    "#shows the only value not greater than 30"
   ]
  },
  {
   "cell_type": "code",
   "execution_count": 43,
   "id": "66cbc9df",
   "metadata": {},
   "outputs": [
    {
     "data": {
      "text/plain": [
       "array([ True, False, False, False, False])"
      ]
     },
     "execution_count": 43,
     "metadata": {},
     "output_type": "execute_result"
    }
   ],
   "source": [
    "np.logical_not(np_weekly_hrs > 30)"
   ]
  },
  {
   "cell_type": "markdown",
   "id": "f79dbfa3",
   "metadata": {},
   "source": [
    "#### Indexing"
   ]
  },
  {
   "cell_type": "code",
   "execution_count": 55,
   "id": "79df357c",
   "metadata": {},
   "outputs": [
    {
     "name": "stdout",
     "output_type": "stream",
     "text": [
      "[[10 15 17 26]\n",
      " [12 11 21 24]]\n"
     ]
    }
   ],
   "source": [
    "cyclist=np.array([[10,15,17,26],[12,11,21,24]])\n",
    "print(cyclist)"
   ]
  },
  {
   "cell_type": "code",
   "execution_count": 45,
   "id": "3894d260",
   "metadata": {},
   "outputs": [
    {
     "data": {
      "text/plain": [
       "2"
      ]
     },
     "execution_count": 45,
     "metadata": {},
     "output_type": "execute_result"
    }
   ],
   "source": [
    "cyclist.ndim"
   ]
  },
  {
   "cell_type": "code",
   "execution_count": 47,
   "id": "97aab34f",
   "metadata": {},
   "outputs": [
    {
     "data": {
      "text/plain": [
       "(2, 4)"
      ]
     },
     "execution_count": 47,
     "metadata": {},
     "output_type": "execute_result"
    }
   ],
   "source": [
    "cyclist.shape"
   ]
  },
  {
   "cell_type": "code",
   "execution_count": 48,
   "id": "da033991",
   "metadata": {},
   "outputs": [
    {
     "data": {
      "text/plain": [
       "8"
      ]
     },
     "execution_count": 48,
     "metadata": {},
     "output_type": "execute_result"
    }
   ],
   "source": [
    "cyclist.size"
   ]
  },
  {
   "cell_type": "code",
   "execution_count": 51,
   "id": "31e7be6e",
   "metadata": {},
   "outputs": [],
   "source": [
    "first_cyclist=cyclist[0]"
   ]
  },
  {
   "cell_type": "code",
   "execution_count": 52,
   "id": "7413cbf1",
   "metadata": {},
   "outputs": [
    {
     "data": {
      "text/plain": [
       "array([10, 15, 17, 26])"
      ]
     },
     "execution_count": 52,
     "metadata": {},
     "output_type": "execute_result"
    }
   ],
   "source": [
    "#the first list in the 2D array takes index 0\n",
    "first_cyclist"
   ]
  },
  {
   "cell_type": "code",
   "execution_count": 57,
   "id": "c61ba017",
   "metadata": {},
   "outputs": [
    {
     "data": {
      "text/plain": [
       "10"
      ]
     },
     "execution_count": 57,
     "metadata": {},
     "output_type": "execute_result"
    }
   ],
   "source": [
    "first_cyclist[0]"
   ]
  },
  {
   "cell_type": "code",
   "execution_count": 58,
   "id": "1a9b0518",
   "metadata": {},
   "outputs": [
    {
     "data": {
      "text/plain": [
       "15"
      ]
     },
     "execution_count": 58,
     "metadata": {},
     "output_type": "execute_result"
    }
   ],
   "source": [
    "cyclist[0,1]"
   ]
  },
  {
   "cell_type": "code",
   "execution_count": 59,
   "id": "480df445",
   "metadata": {},
   "outputs": [],
   "source": [
    "second_cyclist=cyclist[1]"
   ]
  },
  {
   "cell_type": "code",
   "execution_count": 60,
   "id": "03e67707",
   "metadata": {},
   "outputs": [
    {
     "name": "stdout",
     "output_type": "stream",
     "text": [
      "[12 11 21 24]\n"
     ]
    }
   ],
   "source": [
    "print(second_cyclist)"
   ]
  },
  {
   "cell_type": "code",
   "execution_count": 62,
   "id": "ea7ff42a",
   "metadata": {},
   "outputs": [
    {
     "data": {
      "text/plain": [
       "array([10, 12])"
      ]
     },
     "execution_count": 62,
     "metadata": {},
     "output_type": "execute_result"
    }
   ],
   "source": [
    "cyclist[:,0] #select everything in the [0] index"
   ]
  },
  {
   "cell_type": "markdown",
   "id": "8922160e",
   "metadata": {},
   "source": [
    "#### Slicing"
   ]
  },
  {
   "cell_type": "code",
   "execution_count": 65,
   "id": "a81d7aa2",
   "metadata": {},
   "outputs": [
    {
     "data": {
      "text/plain": [
       "array([[15, 17],\n",
       "       [11, 21]])"
      ]
     },
     "execution_count": 65,
     "metadata": {},
     "output_type": "execute_result"
    }
   ],
   "source": [
    "# : shows inlude all rows\n",
    "two_cyclist=cyclist[:,1:3]\n",
    "two_cyclist"
   ]
  },
  {
   "cell_type": "code",
   "execution_count": 68,
   "id": "3425d6cd",
   "metadata": {},
   "outputs": [
    {
     "name": "stdout",
     "output_type": "stream",
     "text": [
      "[10 15 17 26]\n",
      "[12 11 21 24]\n"
     ]
    }
   ],
   "source": [
    "#looping through an array\n",
    "for values in cyclist:\n",
    "    print(values)"
   ]
  },
  {
   "cell_type": "markdown",
   "id": "938ec0cb",
   "metadata": {},
   "source": [
    "#### Indexing with boolean arrays"
   ]
  },
  {
   "cell_type": "code",
   "execution_count": 69,
   "id": "f882ff6d",
   "metadata": {},
   "outputs": [],
   "source": [
    "test_scores=np.array([[83,71,57,63],[54,68,81,45]])"
   ]
  },
  {
   "cell_type": "code",
   "execution_count": 70,
   "id": "d046ca57",
   "metadata": {},
   "outputs": [],
   "source": [
    "passing_score=test_scores>60"
   ]
  },
  {
   "cell_type": "code",
   "execution_count": 71,
   "id": "26d68703",
   "metadata": {},
   "outputs": [
    {
     "data": {
      "text/plain": [
       "array([[ True,  True, False,  True],\n",
       "       [False,  True,  True, False]])"
      ]
     },
     "execution_count": 71,
     "metadata": {},
     "output_type": "execute_result"
    }
   ],
   "source": [
    "passing_score"
   ]
  },
  {
   "cell_type": "code",
   "execution_count": 72,
   "id": "77617035",
   "metadata": {},
   "outputs": [
    {
     "data": {
      "text/plain": [
       "array([83, 71, 63, 68, 81])"
      ]
     },
     "execution_count": 72,
     "metadata": {},
     "output_type": "execute_result"
    }
   ],
   "source": [
    "#to get the values\n",
    "test_scores[passing_score]"
   ]
  },
  {
   "cell_type": "code",
   "execution_count": 73,
   "id": "ddf33258",
   "metadata": {},
   "outputs": [
    {
     "data": {
      "text/plain": [
       "array([83, 71, 57, 63, 54, 68, 81])"
      ]
     },
     "execution_count": 73,
     "metadata": {},
     "output_type": "execute_result"
    }
   ],
   "source": [
    "test_scores[test_scores>50] #direct"
   ]
  },
  {
   "cell_type": "markdown",
   "id": "72c87230",
   "metadata": {},
   "source": [
    "#### Copy and views"
   ]
  },
  {
   "cell_type": "code",
   "execution_count": 74,
   "id": "c26231c9",
   "metadata": {},
   "outputs": [],
   "source": [
    "test_scores_copy=test_scores.copy()"
   ]
  },
  {
   "cell_type": "code",
   "execution_count": 77,
   "id": "d87e722f",
   "metadata": {},
   "outputs": [],
   "source": [
    "test_scores_copy[:,1]=5"
   ]
  },
  {
   "cell_type": "code",
   "execution_count": 78,
   "id": "521def49",
   "metadata": {},
   "outputs": [
    {
     "name": "stdout",
     "output_type": "stream",
     "text": [
      "[[83  5 57 63]\n",
      " [54  5 81 45]]\n"
     ]
    }
   ],
   "source": [
    "print(test_scores_copy)"
   ]
  },
  {
   "cell_type": "code",
   "execution_count": 79,
   "id": "6723fe76",
   "metadata": {},
   "outputs": [
    {
     "name": "stdout",
     "output_type": "stream",
     "text": [
      "[[83 71 57 63]\n",
      " [54 68 81 45]]\n"
     ]
    }
   ],
   "source": [
    "print(test_scores)"
   ]
  },
  {
   "cell_type": "markdown",
   "id": "aa24bf29",
   "metadata": {},
   "source": [
    "the copy/deep copy creates a new distinct array copy of the original. Changes not chained to each other"
   ]
  },
  {
   "cell_type": "code",
   "execution_count": 81,
   "id": "5cdf007e",
   "metadata": {},
   "outputs": [],
   "source": [
    "view_test_scores=test_scores_copy.view()"
   ]
  },
  {
   "cell_type": "code",
   "execution_count": 85,
   "id": "b005d130",
   "metadata": {},
   "outputs": [],
   "source": [
    "view_test_scores[:,0]=678"
   ]
  },
  {
   "cell_type": "code",
   "execution_count": 86,
   "id": "61d6dab6",
   "metadata": {},
   "outputs": [
    {
     "name": "stdout",
     "output_type": "stream",
     "text": [
      "[[678   5  57  63]\n",
      " [678   5  81  45]]\n"
     ]
    }
   ],
   "source": [
    "print(view_test_scores)"
   ]
  },
  {
   "cell_type": "code",
   "execution_count": 87,
   "id": "34ff663d",
   "metadata": {},
   "outputs": [
    {
     "name": "stdout",
     "output_type": "stream",
     "text": [
      "[[678   5  57  63]\n",
      " [678   5  81  45]]\n"
     ]
    }
   ],
   "source": [
    "print(test_scores_copy)"
   ]
  },
  {
   "cell_type": "markdown",
   "id": "49d04143",
   "metadata": {},
   "source": [
    "Changing anything in view/shallow copy changes the original array"
   ]
  },
  {
   "cell_type": "code",
   "execution_count": 90,
   "id": "c86b63ae",
   "metadata": {},
   "outputs": [
    {
     "data": {
      "text/plain": [
       "array([[ True,  True,  True,  True],\n",
       "       [ True,  True,  True,  True]])"
      ]
     },
     "execution_count": 90,
     "metadata": {},
     "output_type": "execute_result"
    }
   ],
   "source": [
    "view_test_scores == test_scores_copy"
   ]
  },
  {
   "cell_type": "markdown",
   "id": "a53c879e",
   "metadata": {},
   "source": [
    "## Mathematical Functions of numpy"
   ]
  },
  {
   "cell_type": "code",
   "execution_count": 91,
   "id": "6ba66a04",
   "metadata": {},
   "outputs": [],
   "source": [
    "np_sqrt=np.sqrt([2,4,9,16])"
   ]
  },
  {
   "cell_type": "code",
   "execution_count": 93,
   "id": "22aa5d9a",
   "metadata": {},
   "outputs": [
    {
     "name": "stdout",
     "output_type": "stream",
     "text": [
      "[1.41421356 2.         3.         4.        ]\n"
     ]
    }
   ],
   "source": [
    "print(np_sqrt)"
   ]
  },
  {
   "cell_type": "code",
   "execution_count": 94,
   "id": "dd42dd9c",
   "metadata": {},
   "outputs": [
    {
     "data": {
      "text/plain": [
       "1.0"
      ]
     },
     "execution_count": 94,
     "metadata": {},
     "output_type": "execute_result"
    }
   ],
   "source": [
    "from numpy import pi\n",
    "np.cos(0)"
   ]
  },
  {
   "cell_type": "code",
   "execution_count": 95,
   "id": "28317f73",
   "metadata": {},
   "outputs": [
    {
     "data": {
      "text/plain": [
       "1.0"
      ]
     },
     "execution_count": 95,
     "metadata": {},
     "output_type": "execute_result"
    }
   ],
   "source": [
    "np.sin(pi/2)"
   ]
  },
  {
   "cell_type": "code",
   "execution_count": 96,
   "id": "7756c7e5",
   "metadata": {},
   "outputs": [
    {
     "data": {
      "text/plain": [
       "-1.0"
      ]
     },
     "execution_count": 96,
     "metadata": {},
     "output_type": "execute_result"
    }
   ],
   "source": [
    "np.cos(pi)"
   ]
  },
  {
   "cell_type": "code",
   "execution_count": 98,
   "id": "be03bc53",
   "metadata": {},
   "outputs": [
    {
     "data": {
      "text/plain": [
       "array([ 1.,  1.,  7., -5.,  9.])"
      ]
     },
     "execution_count": 98,
     "metadata": {},
     "output_type": "execute_result"
    }
   ],
   "source": [
    "np.floor([1.5,1.6,7.1,-4.567,9.9])"
   ]
  },
  {
   "cell_type": "code",
   "execution_count": 99,
   "id": "bec2dd33",
   "metadata": {},
   "outputs": [
    {
     "data": {
      "text/plain": [
       "array([  1.        ,   2.71828183, 148.4131591 ])"
      ]
     },
     "execution_count": 99,
     "metadata": {},
     "output_type": "execute_result"
    }
   ],
   "source": [
    "np.exp([0,1,5])"
   ]
  },
  {
   "cell_type": "markdown",
   "id": "968c2379",
   "metadata": {},
   "source": [
    "#### Shape manipulation\n",
    "\n",
    "We can use split, flatten , resize, reshape, stack"
   ]
  },
  {
   "cell_type": "code",
   "execution_count": 100,
   "id": "74249bed",
   "metadata": {},
   "outputs": [],
   "source": [
    "Random_list=np.array([[10,15,17,26,13,19],[12,11,21,24,14,23]])"
   ]
  },
  {
   "cell_type": "code",
   "execution_count": 101,
   "id": "8e0b0057",
   "metadata": {},
   "outputs": [
    {
     "data": {
      "text/plain": [
       "array([10, 15, 17, 26, 13, 19, 12, 11, 21, 24, 14, 23])"
      ]
     },
     "execution_count": 101,
     "metadata": {},
     "output_type": "execute_result"
    }
   ],
   "source": [
    "#Ravel flattens the array to 1 d\n",
    "Random_list.ravel()"
   ]
  },
  {
   "cell_type": "code",
   "execution_count": 102,
   "id": "9e985275",
   "metadata": {},
   "outputs": [
    {
     "data": {
      "text/plain": [
       "12"
      ]
     },
     "execution_count": 102,
     "metadata": {},
     "output_type": "execute_result"
    }
   ],
   "source": [
    "Random_list.size"
   ]
  },
  {
   "cell_type": "code",
   "execution_count": 103,
   "id": "1517b4d8",
   "metadata": {},
   "outputs": [
    {
     "data": {
      "text/plain": [
       "array([[10, 15, 17, 26],\n",
       "       [13, 19, 12, 11],\n",
       "       [21, 24, 14, 23]])"
      ]
     },
     "execution_count": 103,
     "metadata": {},
     "output_type": "execute_result"
    }
   ],
   "source": [
    "Random_list.reshape(3,4)"
   ]
  },
  {
   "cell_type": "code",
   "execution_count": 104,
   "id": "afd97339",
   "metadata": {},
   "outputs": [],
   "source": [
    "Random_list.resize(2,6)"
   ]
  },
  {
   "cell_type": "code",
   "execution_count": 105,
   "id": "cb634cab",
   "metadata": {},
   "outputs": [
    {
     "data": {
      "text/plain": [
       "array([[10, 15, 17, 26, 13, 19],\n",
       "       [12, 11, 21, 24, 14, 23]])"
      ]
     },
     "execution_count": 105,
     "metadata": {},
     "output_type": "execute_result"
    }
   ],
   "source": [
    "Random_list"
   ]
  },
  {
   "cell_type": "code",
   "execution_count": 107,
   "id": "d9fb9cf5",
   "metadata": {},
   "outputs": [],
   "source": [
    "x,y=np.hsplit(Random_list, 2)"
   ]
  },
  {
   "cell_type": "code",
   "execution_count": 108,
   "id": "4baf61c6",
   "metadata": {},
   "outputs": [
    {
     "data": {
      "text/plain": [
       "array([[10, 15, 17],\n",
       "       [12, 11, 21]])"
      ]
     },
     "execution_count": 108,
     "metadata": {},
     "output_type": "execute_result"
    }
   ],
   "source": [
    "x"
   ]
  },
  {
   "cell_type": "code",
   "execution_count": 109,
   "id": "6f274c00",
   "metadata": {},
   "outputs": [
    {
     "data": {
      "text/plain": [
       "array([[26, 13, 19],\n",
       "       [24, 14, 23]])"
      ]
     },
     "execution_count": 109,
     "metadata": {},
     "output_type": "execute_result"
    }
   ],
   "source": [
    "y"
   ]
  },
  {
   "cell_type": "code",
   "execution_count": 112,
   "id": "f98977ce",
   "metadata": {},
   "outputs": [],
   "source": [
    "Random_list_Again=np.hstack((x,y))"
   ]
  },
  {
   "cell_type": "code",
   "execution_count": 113,
   "id": "ffb9055f",
   "metadata": {},
   "outputs": [
    {
     "data": {
      "text/plain": [
       "array([[10, 15, 17, 26, 13, 19],\n",
       "       [12, 11, 21, 24, 14, 23]])"
      ]
     },
     "execution_count": 113,
     "metadata": {},
     "output_type": "execute_result"
    }
   ],
   "source": [
    "Random_list_Again"
   ]
  },
  {
   "cell_type": "markdown",
   "id": "1e3a12a2",
   "metadata": {},
   "source": [
    "#### Broadcasting"
   ]
  },
  {
   "cell_type": "code",
   "execution_count": 114,
   "id": "a38b54a8",
   "metadata": {},
   "outputs": [],
   "source": [
    "array_a=np.array([2,3,5,8])\n",
    "array_b=np.array([.3,.3,.3,.3])"
   ]
  },
  {
   "cell_type": "code",
   "execution_count": 115,
   "id": "70f73880",
   "metadata": {},
   "outputs": [
    {
     "data": {
      "text/plain": [
       "array([0.6, 0.9, 1.5, 2.4])"
      ]
     },
     "execution_count": 115,
     "metadata": {},
     "output_type": "execute_result"
    }
   ],
   "source": [
    "array_a * array_b"
   ]
  },
  {
   "cell_type": "code",
   "execution_count": 116,
   "id": "84ae09de",
   "metadata": {},
   "outputs": [],
   "source": [
    "#lets create a varaible with a scaler values\n",
    "scaler_c=0.3"
   ]
  },
  {
   "cell_type": "code",
   "execution_count": 117,
   "id": "75262a64",
   "metadata": {},
   "outputs": [
    {
     "data": {
      "text/plain": [
       "array([0.6, 0.9, 1.5, 2.4])"
      ]
     },
     "execution_count": 117,
     "metadata": {},
     "output_type": "execute_result"
    }
   ],
   "source": [
    "#lets broadcast\n",
    "array_a * scaler_c"
   ]
  },
  {
   "cell_type": "markdown",
   "id": "2298456a",
   "metadata": {},
   "source": [
    "To multiply the arrays must have the same shape"
   ]
  },
  {
   "cell_type": "markdown",
   "id": "8363cfb2",
   "metadata": {},
   "source": [
    "#### Linear Alegbra transpose"
   ]
  },
  {
   "cell_type": "code",
   "execution_count": 120,
   "id": "998ead29",
   "metadata": {},
   "outputs": [],
   "source": [
    "test_scores=np.array([[83,71,63,57],[54,68,81,45]])"
   ]
  },
  {
   "cell_type": "code",
   "execution_count": 121,
   "id": "fb82f716",
   "metadata": {},
   "outputs": [
    {
     "data": {
      "text/plain": [
       "array([[83, 54],\n",
       "       [71, 68],\n",
       "       [63, 81],\n",
       "       [57, 45]])"
      ]
     },
     "execution_count": 121,
     "metadata": {},
     "output_type": "execute_result"
    }
   ],
   "source": [
    "test_scores.transpose()"
   ]
  },
  {
   "cell_type": "markdown",
   "id": "fa7bd96b",
   "metadata": {},
   "source": [
    "#### Inverse\n",
    "Inverse elements"
   ]
  },
  {
   "cell_type": "code",
   "execution_count": 122,
   "id": "32d5d91f",
   "metadata": {},
   "outputs": [],
   "source": [
    "#inverse can only be applied to square matrices\n",
    "inverse_array=np.array([[10,20],[15,25]])"
   ]
  },
  {
   "cell_type": "code",
   "execution_count": 123,
   "id": "9f92d931",
   "metadata": {},
   "outputs": [
    {
     "data": {
      "text/plain": [
       "array([[-0.5,  0.4],\n",
       "       [ 0.3, -0.2]])"
      ]
     },
     "execution_count": 123,
     "metadata": {},
     "output_type": "execute_result"
    }
   ],
   "source": [
    "np.linalg.inv(inverse_array)"
   ]
  },
  {
   "cell_type": "markdown",
   "id": "b56441a8",
   "metadata": {},
   "source": [
    "#### Trace\n",
    "Sum of diagonal elements of the array"
   ]
  },
  {
   "cell_type": "code",
   "execution_count": 124,
   "id": "e9ab10d5",
   "metadata": {},
   "outputs": [],
   "source": [
    "trace_array=np.array([[10,20],[22,31]])"
   ]
  },
  {
   "cell_type": "code",
   "execution_count": 126,
   "id": "b80d72d1",
   "metadata": {},
   "outputs": [
    {
     "data": {
      "text/plain": [
       "41"
      ]
     },
     "execution_count": 126,
     "metadata": {},
     "output_type": "execute_result"
    }
   ],
   "source": [
    "np.trace(trace_array) #sum of 10 and 31. applied only from left to right. "
   ]
  },
  {
   "cell_type": "code",
   "execution_count": null,
   "id": "aa190468",
   "metadata": {},
   "outputs": [],
   "source": []
  }
 ],
 "metadata": {
  "kernelspec": {
   "display_name": "Python 3",
   "language": "python",
   "name": "python3"
  },
  "language_info": {
   "codemirror_mode": {
    "name": "ipython",
    "version": 3
   },
   "file_extension": ".py",
   "mimetype": "text/x-python",
   "name": "python",
   "nbconvert_exporter": "python",
   "pygments_lexer": "ipython3",
   "version": "3.9.1"
  }
 },
 "nbformat": 4,
 "nbformat_minor": 5
}
