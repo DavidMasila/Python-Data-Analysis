{
 "cells": [
  {
   "cell_type": "markdown",
   "id": "f723a56a",
   "metadata": {},
   "source": [
    "# Cluster analysis"
   ]
  },
  {
   "cell_type": "code",
   "execution_count": 16,
   "id": "6f1e27e9",
   "metadata": {},
   "outputs": [],
   "source": [
    "import pandas as pd"
   ]
  },
  {
   "cell_type": "code",
   "execution_count": 15,
   "id": "1c9b2f7b",
   "metadata": {},
   "outputs": [
    {
     "name": "stderr",
     "output_type": "stream",
     "text": [
      "<ipython-input-15-e3a0bcb68677>:1: ParserWarning: Falling back to the 'python' engine because the 'c' engine does not support regex separators (separators > 1 char and different from '\\s+' are interpreted as regex); you can avoid this warning by specifying engine='python'.\n",
      "  product=pd.read_csv(\"Product Data Set - Student 2 of 3.csv\", sep=\" | \")\n"
     ]
    }
   ],
   "source": [
    "product=pd.read_csv(\"Product Data Set - Student 2 of 3.csv\", sep=\" | \")"
   ]
  },
  {
   "cell_type": "code",
   "execution_count": 17,
   "id": "ad7e34b7",
   "metadata": {},
   "outputs": [
    {
     "name": "stderr",
     "output_type": "stream",
     "text": [
      "<ipython-input-17-9d79c7dce566>:1: ParserWarning: Falling back to the 'python' engine because the 'c' engine does not support regex separators (separators > 1 char and different from '\\s+' are interpreted as regex); you can avoid this warning by specifying engine='python'.\n",
      "  transaction=pd.read_csv(\"Transaction Data Set - Student 3 of 3.csv\",sep=' | ')\n"
     ]
    }
   ],
   "source": [
    "transaction=pd.read_csv(\"Transaction Data Set - Student 3 of 3.csv\",sep=' | ')"
   ]
  },
  {
   "cell_type": "code",
   "execution_count": 18,
   "id": "93c33eb9",
   "metadata": {},
   "outputs": [
    {
     "name": "stderr",
     "output_type": "stream",
     "text": [
      "<ipython-input-18-1c6108e7f31e>:1: ParserWarning: Falling back to the 'python' engine because the 'c' engine does not support regex separators (separators > 1 char and different from '\\s+' are interpreted as regex); you can avoid this warning by specifying engine='python'.\n",
      "  customer=pd.read_csv(\"Customer Data Set - Student 1 of 3.csv\", sep=' | ')\n"
     ]
    }
   ],
   "source": [
    "customer=pd.read_csv(\"Customer Data Set - Student 1 of 3.csv\", sep=' | ')"
   ]
  },
  {
   "cell_type": "code",
   "execution_count": 12,
   "id": "28e8e748",
   "metadata": {},
   "outputs": [
    {
     "data": {
      "text/html": [
       "<div>\n",
       "<style scoped>\n",
       "    .dataframe tbody tr th:only-of-type {\n",
       "        vertical-align: middle;\n",
       "    }\n",
       "\n",
       "    .dataframe tbody tr th {\n",
       "        vertical-align: top;\n",
       "    }\n",
       "\n",
       "    .dataframe thead th {\n",
       "        text-align: right;\n",
       "    }\n",
       "</style>\n",
       "<table border=\"1\" class=\"dataframe\">\n",
       "  <thead>\n",
       "    <tr style=\"text-align: right;\">\n",
       "      <th></th>\n",
       "      <th>PRODUCT</th>\n",
       "      <th>CODE|PRODUCT</th>\n",
       "      <th>CATEGORY|UNIT</th>\n",
       "      <th>LIST</th>\n",
       "      <th>PRICE</th>\n",
       "    </tr>\n",
       "  </thead>\n",
       "  <tbody>\n",
       "    <tr>\n",
       "      <th>0</th>\n",
       "      <td>30001|HEALTH</td>\n",
       "      <td>&amp;</td>\n",
       "      <td>BEAUTY|</td>\n",
       "      <td>$7.45</td>\n",
       "      <td>NaN</td>\n",
       "    </tr>\n",
       "    <tr>\n",
       "      <th>1</th>\n",
       "      <td>30002|HEALTH</td>\n",
       "      <td>&amp;</td>\n",
       "      <td>BEAUTY|</td>\n",
       "      <td>$5.35</td>\n",
       "      <td>NaN</td>\n",
       "    </tr>\n",
       "    <tr>\n",
       "      <th>2</th>\n",
       "      <td>30003|HEALTH</td>\n",
       "      <td>&amp;</td>\n",
       "      <td>BEAUTY|</td>\n",
       "      <td>$5.49</td>\n",
       "      <td>NaN</td>\n",
       "    </tr>\n",
       "    <tr>\n",
       "      <th>3</th>\n",
       "      <td>30004|HEALTH</td>\n",
       "      <td>&amp;</td>\n",
       "      <td>BEAUTY|</td>\n",
       "      <td>$6.46</td>\n",
       "      <td>NaN</td>\n",
       "    </tr>\n",
       "    <tr>\n",
       "      <th>4</th>\n",
       "      <td>30005|HEALTH</td>\n",
       "      <td>&amp;</td>\n",
       "      <td>BEAUTY|</td>\n",
       "      <td>$7.33</td>\n",
       "      <td>NaN</td>\n",
       "    </tr>\n",
       "  </tbody>\n",
       "</table>\n",
       "</div>"
      ],
      "text/plain": [
       "        PRODUCT CODE|PRODUCT CATEGORY|UNIT   LIST  PRICE\n",
       "0  30001|HEALTH            &       BEAUTY|  $7.45    NaN\n",
       "1  30002|HEALTH            &       BEAUTY|  $5.35    NaN\n",
       "2  30003|HEALTH            &       BEAUTY|  $5.49    NaN\n",
       "3  30004|HEALTH            &       BEAUTY|  $6.46    NaN\n",
       "4  30005|HEALTH            &       BEAUTY|  $7.33    NaN"
      ]
     },
     "execution_count": 12,
     "metadata": {},
     "output_type": "execute_result"
    }
   ],
   "source": [
    "product.head()"
   ]
  },
  {
   "cell_type": "code",
   "execution_count": 10,
   "id": "a0514049",
   "metadata": {},
   "outputs": [
    {
     "ename": "NameError",
     "evalue": "name 'body' is not defined",
     "output_type": "error",
     "traceback": [
      "\u001b[1;31m---------------------------------------------------------------------------\u001b[0m",
      "\u001b[1;31mNameError\u001b[0m                                 Traceback (most recent call last)",
      "\u001b[1;32m<ipython-input-10-a8c2ab5e2abb>\u001b[0m in \u001b[0;36m<module>\u001b[1;34m\u001b[0m\n\u001b[1;32m----> 1\u001b[1;33m \u001b[0mproduct\u001b[0m\u001b[1;33m=\u001b[0m\u001b[0mpd\u001b[0m\u001b[1;33m.\u001b[0m\u001b[0mread_csv\u001b[0m\u001b[1;33m(\u001b[0m\u001b[0mbody\u001b[0m\u001b[1;33m,\u001b[0m \u001b[0msep\u001b[0m\u001b[1;33m=\u001b[0m\u001b[1;34m' | '\u001b[0m\u001b[1;33m)\u001b[0m\u001b[1;33m\u001b[0m\u001b[1;33m\u001b[0m\u001b[0m\n\u001b[0m",
      "\u001b[1;31mNameError\u001b[0m: name 'body' is not defined"
     ]
    }
   ],
   "source": [
    "product=pd.read_csv(body, sep=' | ')"
   ]
  },
  {
   "cell_type": "code",
   "execution_count": null,
   "id": "e3367818",
   "metadata": {},
   "outputs": [],
   "source": []
  }
 ],
 "metadata": {
  "kernelspec": {
   "display_name": "Python 3",
   "language": "python",
   "name": "python3"
  },
  "language_info": {
   "codemirror_mode": {
    "name": "ipython",
    "version": 3
   },
   "file_extension": ".py",
   "mimetype": "text/x-python",
   "name": "python",
   "nbconvert_exporter": "python",
   "pygments_lexer": "ipython3",
   "version": "3.9.1"
  }
 },
 "nbformat": 4,
 "nbformat_minor": 5
}
