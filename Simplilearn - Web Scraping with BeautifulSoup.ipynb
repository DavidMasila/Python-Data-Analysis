{
 "cells": [
  {
   "cell_type": "markdown",
   "id": "2383ef69",
   "metadata": {},
   "source": [
    "# Simplilearn\n",
    "## Web Scraping with Beautiful Soup"
   ]
  },
  {
   "cell_type": "code",
   "execution_count": 56,
   "id": "a3f28583",
   "metadata": {},
   "outputs": [
    {
     "name": "stdout",
     "output_type": "stream",
     "text": [
      "Requirement already satisfied: bs4 in c:\\python\\lib\\site-packages (0.0.1)\n",
      "Requirement already satisfied: beautifulsoup4 in c:\\python\\lib\\site-packages (from bs4) (4.11.1)\n",
      "Requirement already satisfied: soupsieve>1.2 in c:\\python\\lib\\site-packages (from beautifulsoup4->bs4) (2.3.2.post1)\n",
      "Note: you may need to restart the kernel to use updated packages.\n"
     ]
    }
   ],
   "source": [
    "pip install bs4"
   ]
  },
  {
   "cell_type": "code",
   "execution_count": 57,
   "id": "57a4597a",
   "metadata": {},
   "outputs": [],
   "source": [
    "from bs4 import BeautifulSoup"
   ]
  },
  {
   "cell_type": "code",
   "execution_count": 58,
   "id": "d8af85b3",
   "metadata": {},
   "outputs": [],
   "source": [
    "html_doc=\"\"\"\n",
    "<html>\n",
    "<body>\n",
    "<h1>\n",
    "My first Heading\n",
    "</h1>\n",
    "<b><!--This is a comment--></b>\n",
    "<p title= \"About me\" class=\"test\">Mt first Paragraph</p>\n",
    "<div class=\"citites\">\n",
    "<h2>Nairobi</h2>\n",
    "</div>\n",
    "</body>\n",
    "</html>\"\"\""
   ]
  },
  {
   "cell_type": "code",
   "execution_count": 59,
   "id": "7401ea43",
   "metadata": {},
   "outputs": [],
   "source": [
    "#use html parser to parse it because its an html doc\n",
    "soup=BeautifulSoup(html_doc,'html.parser')"
   ]
  },
  {
   "cell_type": "code",
   "execution_count": 60,
   "id": "53d3f039",
   "metadata": {},
   "outputs": [
    {
     "data": {
      "text/plain": [
       "bs4.BeautifulSoup"
      ]
     },
     "execution_count": 60,
     "metadata": {},
     "output_type": "execute_result"
    }
   ],
   "source": [
    "#view the soup type\n",
    "type(soup)"
   ]
  },
  {
   "cell_type": "code",
   "execution_count": 61,
   "id": "242d0f9e",
   "metadata": {},
   "outputs": [
    {
     "name": "stdout",
     "output_type": "stream",
     "text": [
      "\n",
      "<html>\n",
      "<body>\n",
      "<h1>\n",
      "My first Heading\n",
      "</h1>\n",
      "<b><!--This is a comment--></b>\n",
      "<p class=\"test\" title=\"About me\">Mt first Paragraph</p>\n",
      "<div class=\"citites\">\n",
      "<h2>Nairobi</h2>\n",
      "</div>\n",
      "</body>\n",
      "</html>\n"
     ]
    }
   ],
   "source": [
    "#view the soup object\n",
    "print(soup)"
   ]
  },
  {
   "cell_type": "code",
   "execution_count": 62,
   "id": "7d222c90",
   "metadata": {},
   "outputs": [],
   "source": [
    "#create a tag object\n",
    "tag=soup.p"
   ]
  },
  {
   "cell_type": "code",
   "execution_count": 63,
   "id": "dbde4464",
   "metadata": {},
   "outputs": [
    {
     "data": {
      "text/plain": [
       "bs4.element.Tag"
      ]
     },
     "execution_count": 63,
     "metadata": {},
     "output_type": "execute_result"
    }
   ],
   "source": [
    "#view the tag object type\n",
    "type(tag)"
   ]
  },
  {
   "cell_type": "code",
   "execution_count": 64,
   "id": "89b7ba25",
   "metadata": {},
   "outputs": [
    {
     "name": "stdout",
     "output_type": "stream",
     "text": [
      "<p class=\"test\" title=\"About me\">Mt first Paragraph</p>\n"
     ]
    }
   ],
   "source": [
    "#print the tag\n",
    "print(tag)"
   ]
  },
  {
   "cell_type": "code",
   "execution_count": 65,
   "id": "0362683b",
   "metadata": {},
   "outputs": [],
   "source": [
    "#create a comment object type\n",
    "comment=soup.b.string"
   ]
  },
  {
   "cell_type": "code",
   "execution_count": 66,
   "id": "d161f0c8",
   "metadata": {},
   "outputs": [
    {
     "data": {
      "text/plain": [
       "bs4.element.Comment"
      ]
     },
     "execution_count": 66,
     "metadata": {},
     "output_type": "execute_result"
    }
   ],
   "source": [
    "type(comment)"
   ]
  },
  {
   "cell_type": "code",
   "execution_count": 67,
   "id": "18b3f8ad",
   "metadata": {},
   "outputs": [
    {
     "name": "stdout",
     "output_type": "stream",
     "text": [
      "This is a comment\n"
     ]
    }
   ],
   "source": [
    "print(comment)"
   ]
  },
  {
   "cell_type": "code",
   "execution_count": 68,
   "id": "3fd8c26d",
   "metadata": {},
   "outputs": [
    {
     "data": {
      "text/plain": [
       "{'title': 'About me', 'class': ['test']}"
      ]
     },
     "execution_count": 68,
     "metadata": {},
     "output_type": "execute_result"
    }
   ],
   "source": [
    "#view tag attribute\n",
    "tag.attrs"
   ]
  },
  {
   "cell_type": "code",
   "execution_count": 69,
   "id": "07d15098",
   "metadata": {},
   "outputs": [
    {
     "data": {
      "text/plain": [
       "'Mt first Paragraph'"
      ]
     },
     "execution_count": 69,
     "metadata": {},
     "output_type": "execute_result"
    }
   ],
   "source": [
    "#view the tag value\n",
    "tag.string"
   ]
  },
  {
   "cell_type": "code",
   "execution_count": 70,
   "id": "75700954",
   "metadata": {},
   "outputs": [
    {
     "data": {
      "text/plain": [
       "bs4.element.NavigableString"
      ]
     },
     "execution_count": 70,
     "metadata": {},
     "output_type": "execute_result"
    }
   ],
   "source": [
    "#view the tag type(navigable string)\n",
    "type(tag.string)"
   ]
  },
  {
   "cell_type": "markdown",
   "id": "7971b59b",
   "metadata": {},
   "source": [
    "## Search the tree with filters"
   ]
  },
  {
   "cell_type": "code",
   "execution_count": 71,
   "id": "e7967bb5",
   "metadata": {},
   "outputs": [],
   "source": [
    "HTMLfile=\"notes.html\"\n",
    "with open(HTMLfile,\"r\") as notes:\n",
    "    soup=BeautifulSoup(notes,'lxml')"
   ]
  },
  {
   "cell_type": "code",
   "execution_count": 72,
   "id": "4a2037e5",
   "metadata": {
    "scrolled": true
   },
   "outputs": [
    {
     "data": {
      "text/plain": [
       "['html',\n",
       " <html lang=\"en\">\n",
       " <head>\n",
       " <meta charset=\"utf-8\"/>\n",
       " <meta content=\"IE=edge\" http-equiv=\"X-UA-Compatible\"/>\n",
       " <meta content=\"width=device-width, initial-scale=1.0\" name=\"viewport\"/>\n",
       " <title>Udacity Course</title>\n",
       " </head>\n",
       " <body>\n",
       "     My HTML notes from Udacity training. \n",
       " Markup is refers to special characters in html that have <em>special meaning</em>. \n",
       " Mary had a little toad <br/>\n",
       " Its skin as tough as shell <br/>\n",
       " And every file that toad would write <br/>\n",
       " It used HTML.<br/>\n",
       " <p id=\"Story come\">This is a story.</p>\n",
       " <p>Add paragraph tags to make it better.</p>\n",
       " <p>Once upon a time there was a baby tiger named Talia. Talia lived in a fearsome jungle in the middle of the fearsome jungle. \n",
       " Talia was the most fearsome of all, though she was only a baby.</p>\n",
       " <p>MC<sup>2</sup> CO<sub>2</sub></p>\n",
       " <p>When i start <mark>Scorprog </mark>maybe life will be easier</p>\n",
       " <h1>My HTML Notes</h1>\n",
       " <p>This page is a collection of my awesome notes about HTML!</p>\n",
       " <h2>The Web</h2>\n",
       " <p>The Web (or World Wide Web) is a collection of documents and other files. Most of the documents are made using Hypertext Markup Language (HTML).</p>\n",
       " <h2>What is HTML?</h2>\n",
       " <p>HTML stands for Hypertext Markup Language. It's used to define the structure or layout of a web page.</p>\n",
       " <br/>\n",
       " <h1>My Chemistry Notes</h1>\n",
       " <p>\n",
       " <strong>Molecule name: </strong><em>Sulfur hexafluoride</em>\n",
       " </p>\n",
       " <p>\n",
       " <strong>Molecular formula: </strong>SF<sub>6</sub>\n",
       " </p>\n",
       " <p>\n",
       " <strong>Note: </strong>This has a much higher density than ait. Basically the opposite of helium. <mark>Crazy!</mark>\n",
       " </p>\n",
       " <br/>\n",
       " <style>\n",
       "     p.block{border: 1px solid red}\n",
       "     div{border: 1px solid rgb(0, 4, 255) }\n",
       " </style>\n",
       " class me ishamael\n",
       " <br/><br/>\n",
       " Just don't call me late for dinner\n",
       " <br/><br/>\n",
       " <p class=\"block\">Call me ishamel</p>\n",
       " <p class=\"block\">Just don't call me late for dinner</p>\n",
       " <h3>\n",
       "     DIV element\n",
       " </h3>\n",
       " <div>\n",
       " <p class=\"block\">Call me ishamel</p>\n",
       " <p class=\"block\">Just don't call me late for dinner</p>\n",
       " </div>\n",
       " <h3>\n",
       "     Lists\n",
       " </h3>\n",
       " <ol id=\"learn\">\n",
       " <li>Learn HTML</li>\n",
       " <li>Lean CSS</li>\n",
       " <li>Learn Python</li>\n",
       " <li>Save the World</li>\n",
       " </ol>\n",
       " <ul>\n",
       " <li>Mammals</li>\n",
       " </ul><ol>\n",
       " <li>Raccons</li>\n",
       " <li>Gorillas</li>\n",
       " </ol>\n",
       " <li>Reptiles</li>\n",
       " <ol>\n",
       " <li>Iguanas</li>\n",
       " <li>Cobras</li>\n",
       " </ol>\n",
       " <li>Birds</li>\n",
       " <ol>\n",
       " <li>Ostriches</li>\n",
       " <li>Ravens</li>\n",
       " </ol>\n",
       " <h3>Web Addresses and links</h3>\n",
       " <p>a href is used to link up other pages</p>\n",
       " <p><a href=\"https://youtube.com\">Youtube</a> is my favorite site</p>\n",
       " <br/>\n",
       " <h3>Adding Images</h3>\n",
       " <img alt=\"Gisore Haggai\" height=\"200\" src=\"GISORE.jpg\" width=\"100\"/>\n",
       " <a href=\"https://github.com\"><img alt=\"Gisore Haggai\" height=\"200\" src=\"GISORE.jpg\" width=\"100\"/></a>\n",
       " <p>My favorite things</p>\n",
       " <ol>\n",
       " <a href=\"https://placebear.com/150/150\" target=\"_blank\"><li>Bears</li></a>\n",
       " <a href=\"https://placekitten.com/150/150\" target=\"_blank\"><li>Kittens</li></a>\n",
       " </ol>\n",
       " <p>\n",
       "     My favorite things:\n",
       "   </p>\n",
       " <ol>\n",
       " <li><a href=\"https://en.wikipedia.org/wiki/Bear\" target=\"_blank\">Bears</a>\n",
       " </li><li><a href=\"https://en.wikipedia.org/wiki/Kitten\" target=\"_blank\">Kittens</a>\n",
       " </li></ol>\n",
       " <img alt=\"A picture of a bear.\" src=\"https://placebear.com/150/150\"/>\n",
       " <img alt=\"A picture of a kitten.\" src=\"https://placekitten.com/150/150\"/>\n",
       " <p>The head, body and html tags serves respertive functions but are not a must</p>\n",
       " <p>How they are necessary for specific tag definitions such as title</p>\n",
       " </body>\n",
       " </html>,\n",
       " '\\n']"
      ]
     },
     "execution_count": 72,
     "metadata": {},
     "output_type": "execute_result"
    }
   ],
   "source": [
    "#view contents of the soup object\n",
    "soup.contents"
   ]
  },
  {
   "cell_type": "code",
   "execution_count": 73,
   "id": "572e6f44",
   "metadata": {},
   "outputs": [],
   "source": [
    "tag_li=soup.li"
   ]
  },
  {
   "cell_type": "code",
   "execution_count": 74,
   "id": "cd57e3c6",
   "metadata": {},
   "outputs": [
    {
     "data": {
      "text/plain": [
       "'Learn HTML'"
      ]
     },
     "execution_count": 74,
     "metadata": {},
     "output_type": "execute_result"
    }
   ],
   "source": [
    "#returns the first found li\n",
    "tag_li.string"
   ]
  },
  {
   "cell_type": "code",
   "execution_count": 75,
   "id": "65ed0deb",
   "metadata": {},
   "outputs": [
    {
     "data": {
      "text/plain": [
       "{}"
      ]
     },
     "execution_count": 75,
     "metadata": {},
     "output_type": "execute_result"
    }
   ],
   "source": [
    "#check attributes\n",
    "#the li here has no attributes so an empty dict returned\n",
    "tag_li.attrs"
   ]
  },
  {
   "cell_type": "code",
   "execution_count": 76,
   "id": "39b58f5b",
   "metadata": {},
   "outputs": [],
   "source": [
    "tag_li2=soup.find(\"li\")"
   ]
  },
  {
   "cell_type": "code",
   "execution_count": 77,
   "id": "e1118d47",
   "metadata": {},
   "outputs": [
    {
     "data": {
      "text/plain": [
       "bs4.element.Tag"
      ]
     },
     "execution_count": 77,
     "metadata": {},
     "output_type": "execute_result"
    }
   ],
   "source": [
    "type(tag_li2)"
   ]
  },
  {
   "cell_type": "code",
   "execution_count": 78,
   "id": "ed34bb40",
   "metadata": {},
   "outputs": [
    {
     "data": {
      "text/plain": [
       "'Learn HTML'"
      ]
     },
     "execution_count": 78,
     "metadata": {},
     "output_type": "execute_result"
    }
   ],
   "source": [
    "tag_li2.string"
   ]
  },
  {
   "cell_type": "code",
   "execution_count": 79,
   "id": "bf804a81",
   "metadata": {},
   "outputs": [
    {
     "name": "stdout",
     "output_type": "stream",
     "text": [
      "<li>Learn HTML</li>\n"
     ]
    }
   ],
   "source": [
    "print(tag_li2)"
   ]
  },
  {
   "cell_type": "code",
   "execution_count": 80,
   "id": "fef02445",
   "metadata": {},
   "outputs": [],
   "source": [
    "#search the document using find method for an id\n",
    "find_id=soup.find(id=\"story time\")"
   ]
  },
  {
   "cell_type": "code",
   "execution_count": 81,
   "id": "cf2ad8e4",
   "metadata": {},
   "outputs": [
    {
     "name": "stdout",
     "output_type": "stream",
     "text": [
      "None\n"
     ]
    }
   ],
   "source": [
    "print(find_id)"
   ]
  },
  {
   "cell_type": "code",
   "execution_count": 82,
   "id": "3e0c0df9",
   "metadata": {},
   "outputs": [],
   "source": [
    "find_id=soup.find(id=\"Story come\")"
   ]
  },
  {
   "cell_type": "code",
   "execution_count": 83,
   "id": "98bcfc15",
   "metadata": {},
   "outputs": [
    {
     "name": "stdout",
     "output_type": "stream",
     "text": [
      "<p id=\"Story come\">This is a story.</p>\n"
     ]
    }
   ],
   "source": [
    "print(find_id)"
   ]
  },
  {
   "cell_type": "code",
   "execution_count": 87,
   "id": "82566dae",
   "metadata": {},
   "outputs": [],
   "source": [
    "find_id2=soup.find(id='learn')"
   ]
  },
  {
   "cell_type": "code",
   "execution_count": 88,
   "id": "51028e19",
   "metadata": {},
   "outputs": [
    {
     "name": "stdout",
     "output_type": "stream",
     "text": [
      "<ol id=\"learn\">\n",
      "<li>Learn HTML</li>\n",
      "<li>Lean CSS</li>\n",
      "<li>Learn Python</li>\n",
      "<li>Save the World</li>\n",
      "</ol>\n"
     ]
    }
   ],
   "source": [
    "print(find_id2)"
   ]
  },
  {
   "cell_type": "code",
   "execution_count": 89,
   "id": "38ce8c3b",
   "metadata": {},
   "outputs": [
    {
     "name": "stdout",
     "output_type": "stream",
     "text": [
      "Learn HTML\n"
     ]
    }
   ],
   "source": [
    "#basically saying find li string in the id learn\n",
    "print(find_id2.li.string)"
   ]
  },
  {
   "cell_type": "code",
   "execution_count": 92,
   "id": "1b617c7a",
   "metadata": {},
   "outputs": [],
   "source": [
    "#search using string only\n",
    "string_search=soup.findAll(text=['pages','Python'])"
   ]
  },
  {
   "cell_type": "code",
   "execution_count": 93,
   "id": "bd99250a",
   "metadata": {},
   "outputs": [
    {
     "name": "stdout",
     "output_type": "stream",
     "text": [
      "[]\n"
     ]
    }
   ],
   "source": [
    "print(string_search)"
   ]
  },
  {
   "cell_type": "code",
   "execution_count": 98,
   "id": "d78dd608",
   "metadata": {},
   "outputs": [],
   "source": [
    "#search based on CSS class name \n",
    "css_class_search=soup.find(attrs={'class':'block'})"
   ]
  },
  {
   "cell_type": "code",
   "execution_count": 99,
   "id": "97e092cb",
   "metadata": {},
   "outputs": [
    {
     "name": "stdout",
     "output_type": "stream",
     "text": [
      "<p class=\"block\">Call me ishamel</p>\n"
     ]
    }
   ],
   "source": [
    "#returns the first one it finds\n",
    "print(css_class_search)"
   ]
  },
  {
   "cell_type": "code",
   "execution_count": 100,
   "id": "f596f349",
   "metadata": {},
   "outputs": [],
   "source": [
    "#create a function to search the document based upon the tag passed as a parameter\n"
   ]
  },
  {
   "cell_type": "code",
   "execution_count": 102,
   "id": "e2c70b16",
   "metadata": {
    "scrolled": true
   },
   "outputs": [
    {
     "name": "stdout",
     "output_type": "stream",
     "text": [
      "html\n",
      "head\n",
      "meta\n",
      "meta\n",
      "meta\n",
      "title\n",
      "body\n",
      "em\n",
      "br\n",
      "br\n",
      "br\n",
      "br\n",
      "p\n",
      "p\n",
      "p\n",
      "p\n",
      "sup\n",
      "sub\n",
      "p\n",
      "mark\n",
      "h1\n",
      "p\n",
      "h2\n",
      "p\n",
      "h2\n",
      "p\n",
      "br\n",
      "h1\n",
      "p\n",
      "strong\n",
      "em\n",
      "p\n",
      "strong\n",
      "sub\n",
      "p\n",
      "strong\n",
      "mark\n",
      "br\n",
      "style\n",
      "br\n",
      "br\n",
      "br\n",
      "br\n",
      "p\n",
      "p\n",
      "h3\n",
      "div\n",
      "p\n",
      "p\n",
      "h3\n",
      "ol\n",
      "li\n",
      "li\n",
      "li\n",
      "li\n",
      "ul\n",
      "li\n",
      "ol\n",
      "li\n",
      "li\n",
      "li\n",
      "ol\n",
      "li\n",
      "li\n",
      "li\n",
      "ol\n",
      "li\n",
      "li\n",
      "h3\n",
      "p\n",
      "p\n",
      "a\n",
      "br\n",
      "h3\n",
      "img\n",
      "a\n",
      "img\n",
      "p\n",
      "ol\n",
      "a\n",
      "li\n",
      "a\n",
      "li\n",
      "p\n",
      "ol\n",
      "li\n",
      "a\n",
      "li\n",
      "a\n",
      "img\n",
      "img\n",
      "p\n",
      "p\n"
     ]
    }
   ],
   "source": [
    "#find all tags in the document\n",
    "for tag in soup.findAll(True):\n",
    "    print(tag.name)"
   ]
  },
  {
   "cell_type": "code",
   "execution_count": 105,
   "id": "3a803d00",
   "metadata": {},
   "outputs": [
    {
     "name": "stdout",
     "output_type": "stream",
     "text": [
      "[<p class=\"block\">Call me ishamel</p>, <p class=\"block\">Just don't call me late for dinner</p>, <p class=\"block\">Call me ishamel</p>, <p class=\"block\">Just don't call me late for dinner</p>]\n"
     ]
    }
   ],
   "source": [
    "#searching using find all\n",
    "find_class=soup.findAll(class_='block')\n",
    "print(find_class)"
   ]
  },
  {
   "cell_type": "code",
   "execution_count": 106,
   "id": "06d7811a",
   "metadata": {},
   "outputs": [
    {
     "data": {
      "text/plain": [
       "bs4.element.ResultSet"
      ]
     },
     "execution_count": 106,
     "metadata": {},
     "output_type": "execute_result"
    }
   ],
   "source": [
    "type(find_class)"
   ]
  },
  {
   "cell_type": "code",
   "execution_count": 107,
   "id": "98426f95",
   "metadata": {},
   "outputs": [
    {
     "name": "stdout",
     "output_type": "stream",
     "text": [
      "<p class=\"block\">Call me ishamel</p>\n"
     ]
    }
   ],
   "source": [
    "print(find_class[0])#you can index it too."
   ]
  },
  {
   "cell_type": "code",
   "execution_count": 109,
   "id": "3df5a6e5",
   "metadata": {},
   "outputs": [
    {
     "name": "stdout",
     "output_type": "stream",
     "text": [
      "<p class=\"block\">Just don't call me late for dinner</p>\n"
     ]
    }
   ],
   "source": [
    "print(find_class[1])"
   ]
  },
  {
   "cell_type": "code",
   "execution_count": 112,
   "id": "09f74d37",
   "metadata": {},
   "outputs": [],
   "source": [
    "#use regular expression to search the document\n",
    "import re\n",
    "email_example=\"\"\"\n",
    "<br>\n",
    "<p>my email is </p>\n",
    "abc@example.com\n",
    "\"\"\"\n",
    "soup_email=BeautifulSoup(email_example,'lxml')"
   ]
  },
  {
   "cell_type": "code",
   "execution_count": 113,
   "id": "956e17f3",
   "metadata": {},
   "outputs": [],
   "source": [
    "emailID_regex=re.compile(\"\\w+@\\w+\\.\\w+\")"
   ]
  },
  {
   "cell_type": "code",
   "execution_count": 114,
   "id": "e5ec2572",
   "metadata": {},
   "outputs": [],
   "source": [
    "#find and print the email ID using regular expression\n",
    "email_id=soup_email.find(text=emailID_regex)"
   ]
  },
  {
   "cell_type": "code",
   "execution_count": 115,
   "id": "330a1a84",
   "metadata": {},
   "outputs": [
    {
     "name": "stdout",
     "output_type": "stream",
     "text": [
      "\n",
      "abc@example.com\n",
      "\n"
     ]
    }
   ],
   "source": [
    "print(email_id)"
   ]
  },
  {
   "cell_type": "code",
   "execution_count": 116,
   "id": "f4f848b2",
   "metadata": {},
   "outputs": [],
   "source": []
  },
  {
   "cell_type": "code",
   "execution_count": 117,
   "id": "f969abd3",
   "metadata": {},
   "outputs": [
    {
     "name": "stdout",
     "output_type": "stream",
     "text": [
      "\n"
     ]
    }
   ],
   "source": []
  },
  {
   "cell_type": "code",
   "execution_count": null,
   "id": "d1fdefc2",
   "metadata": {},
   "outputs": [],
   "source": []
  }
 ],
 "metadata": {
  "kernelspec": {
   "display_name": "Python 3",
   "language": "python",
   "name": "python3"
  },
  "language_info": {
   "codemirror_mode": {
    "name": "ipython",
    "version": 3
   },
   "file_extension": ".py",
   "mimetype": "text/x-python",
   "name": "python",
   "nbconvert_exporter": "python",
   "pygments_lexer": "ipython3",
   "version": "3.9.1"
  }
 },
 "nbformat": 4,
 "nbformat_minor": 5
}
